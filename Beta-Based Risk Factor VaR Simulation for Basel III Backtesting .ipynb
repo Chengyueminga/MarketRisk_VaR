{
 "cells": [
  {
   "cell_type": "markdown",
   "id": "583b3994",
   "metadata": {},
   "source": [
    "### CAPM-Based Interpretation of Risk Factors\n",
    "### 1. Introduction\n",
    "\n",
    "This simulation is a multi-factor modeling framework inspired by the Capital Asset Pricing Model (CAPM).\n",
    "\n",
    "Reference:\n",
    "- John C. Hull, *Risk Management and Financial Institutions*, 5th Edition, Wiley.\n",
    "\n",
    "While traditional CAPM considers market beta as the one driver of return, this approach extends the logic to include more factors such as:\n",
    "- Equity market index (e.g. SPY)\n",
    "- Sector index (e.g. XLK for technology exposure)\n",
    "- Interest rate proxy (e.g. TLT)\n",
    "\n",
    "Portfolio sensitivity (beta) to these risk factors is estimated using historical return data via linear regression. These beta coefficients are then applied to simulated risk factor returns to generate portfolio-level return paths for Monte Carlo VaR estimation.\n"
   ]
  },
  {
   "cell_type": "markdown",
   "id": "293e714c",
   "metadata": {},
   "source": [
    "## 1.1 Rationale for Risk Factors\n",
    "\n",
    "The following risk factors are selected based on their financial relevance to a technology-heavy portfolio and are incorporated into the modeling framework:\n",
    "\n",
    "- **Market (`SPY`)**: Represents the overall U.S. equity market as general equity market movements. It is also widely recognized as a benchmark for passive investment strategies.\n",
    "\n",
    "- **Tech (`XLK`)**: This ETF represents the technology sector and is chosen because this portfolio is tech-centric composition. It can be replaced by `XLF` or another sector ETF if the portfolio focus shifts.\n",
    "\n",
    "- **IR (`TLT`)**: A long-duration Treasury bond ETF used as an interest rate factor. It is included because tech stocks are typically more affected by long-term rate movements.\n",
    "\n",
    "- **Mtum (`MTUM`)**: An ETF tracking stocks with strong recent performance, following a momentum-based strategy.\n",
    "\n",
    "- **Vol (`^VIX`)**: This index is for market volatility and can explain how asset returns react to unexpected situations or market stress.\n",
    "\n",
    "- **Value (`VLUE`)**: An ETF that focuses on stocks with relatively low valuation metrics, often measured by metrics like P/E ratio.\n",
    "\n",
    "- **Growth (`IWF`)**: An ETF that includes U.S. stocks with high revenue or earnings growth. It often overlaps with tech stocks and is used to reflect growth-style exposure in the portfolio.\n",
    "\n",
    "Note: Growth and value factors may be highly correlated due to their construction methodology. While both are included to reflect style exposures relevant to tech-driven portfolios, the risk of multicollinearity is acknowledged. Correlation and VIF check will be performed later."
   ]
  },
  {
   "cell_type": "markdown",
   "id": "59478c22",
   "metadata": {},
   "source": [
    "## 2. Factor Modeling and Simulation \n",
    "\n",
    "This section presents a two-step framework for modeling portfolio risk using a multi-factor extension of the Capital Asset Pricing Model (CAPM). \n",
    "\n",
    "Step1: the portfolio return is regressed on market risk factors using linear regression to estimate factor sensitivities (betas). This approach captures how the portfolio responds to systematic drivers such as market, sector, interest rates, and style exposures.\n",
    "\n",
    "Step2: Monte Carlo simulation is applied to the selected risk factors. Correlated factor returns are generated based on a covariance matrix estimated from historical data. These simulated returns, combined with the estimated betas, are used to construct portfolio return distributions and compute Value-at-Risk (VaR).\n",
    "\n",
    "### 2.1 Factor Regression and Selection\n",
    "\n",
    "To quantify the portfolio’s exposure to systematic risk factors, historical portfolio returns are regressed on the selected factor returns using ordinary least squares (OLS) regression. The initial model includes all factors, and the resulting R² of approximately 0.90 indicates strong explanatory power.\n",
    "\n",
    "To improve robustness and mitigate potential multicollinearity, the model is refined as follows:\n",
    "\n",
    "- Factors with statistically insignificant coefficients (high p-values) are removed.\n",
    "- Variance Inflation Factor (VIF) is calculated to test multicollinearity. \n",
    "\n",
    "In practice, some degree of multicollinearity is often tolerated to preserve economic interpretability, which means factors with high VIF values do not necessarily need to be excluded. However, in this simulation, those factors were removed to simplify the model and ensure statistical clarity, especially since the remaining factor set still provided strong explanatory power, with a high R².\n",
    "\n",
    "A second linear regression is performed on the reduced set of factors that passed both the p-value threshold for statistical significance and the VIF threshold for multicollinearity. The updated model maintains strong explanatory power, with an R² comparable to the initial full-factor model. The beta coefficients estimated from this regression are used as inputs in the Monte Carlo simulation."
   ]
  },
  {
   "cell_type": "markdown",
   "id": "4b40f0d3",
   "metadata": {},
   "source": [
    "### 2.2 Simulating Correlated Risk Factor Returns\n",
    "\n",
    "A multivariate normal distribution is employed for Monte Carlo simulation. The mean vector and covariance matrix are estimated from historical returns of the selected risk factors to ensure that the simulated returns reflect their historical co-movements.\n",
    "\n",
    "The simulated factor returns will later be combined with the portfolio’s beta exposures for Value-at-Risk estimation."
   ]
  },
  {
   "cell_type": "markdown",
   "id": "3cedef1d",
   "metadata": {},
   "source": [
    "### 2.3 Constructing Simulated Portfolio Returns\n",
    "\n",
    "Once risk factor return paths have been generated through Monte Carlo simulation, they are transformed into portfolio returns using the beta exposures estimated in Section 2.1.\n",
    "\n",
    "Each simulated portfolio return is calculated as a linear combination of the simulated factor returns, weighted by the portfolio’s beta to each factor:\n",
    "\n",
    "    Simulated Portfolio Return = β₁ × Factor₁ + β₂ × Factor₂ + ... + β_k × Factor_k\n",
    "\n",
    "Where:\n",
    "- β represents the portfolio's sensitivity (beta) to each factor\n",
    "- Factor_i is the simulated return of the i-th risk factor for that scenario\n",
    "\n",
    "This process generates a full distribution of 1-day simulated portfolio returns, which incorporates both the correlation structure of the risk factors and the portfolio’s exposures.\n",
    "\n",
    "This return distribution serves as the basis for calculating the 99% Value-at-Risk in the next step."
   ]
  },
  {
   "cell_type": "markdown",
   "id": "786eedef",
   "metadata": {},
   "source": [
    "## 3. Monte Carlo VaR Estimation\n",
    "\n",
    "The 1-day 99% Value-at-Risk (VaR) is estimated as the 1st percentile of the simulated portfolio return distribution generated in Section 2.3.\n",
    "\n",
    "This approach follows the standard Monte Carlo VaR methodology widely recognized in both regulatory frameworks and industry practice."
   ]
  },
  {
   "cell_type": "markdown",
   "id": "de20dbc4",
   "metadata": {},
   "source": [
    "## 4. Backtesting and Basel III Evaluation\n",
    "\n",
    "To evaluate the accuracy of the Monte Carlo VaR model, backtesting is performed by comparing the predicted 1-day 99% VaR from Monte Carlo simulation against actual portfolio returns over a 1-year test period(approximately 250 trading days), consistent with the Basel III framework.\n",
    "\n",
    "Each instance in which the actual return falls below the estimated VaR is recorded as a breach, or exception. The total number of exceptions is counted to assess model performance according to the Basel III framework.\n",
    "\n",
    "Under the Basel guidelines:\n",
    "\n",
    "- **Green Zone**: 0 to 4 exceptions (model accepted)\n",
    "- **Yellow Zone**: 5 to 9 exceptions (model conditionally accepted, increased multiplier)\n",
    "- **Red Zone**: 10 or more exceptions (model rejected or subjected to supervisory review)\n",
    "\n",
    "This traffic light classification provides a standardized regulatory interpretation of how effectively the model captures downside risk. The number of  observed exceptions is compared to the threshold to determine the appropriate regulatory zone.\n",
    "\n",
    "📖 Reference: [BCBS Traffic Light Backtesting Framework](https://www.bis.org/publ/bcbs22.htm)"
   ]
  },
  {
   "cell_type": "markdown",
   "id": "bd86e99f",
   "metadata": {},
   "source": [
    "### Appendix: Python Coding "
   ]
  },
  {
   "cell_type": "code",
   "execution_count": 1,
   "id": "6b32ec5b",
   "metadata": {},
   "outputs": [],
   "source": [
    "import json\n",
    "\n",
    "config = {\n",
    "    \"tickers\": ['AAPL', 'MSFT', 'NVDA', 'GOOG', 'AMD'],\n",
    "    \"weights\": [0.3, 0.25, 0.2, 0.15, 0.1],\n",
    "    \"start\": \"2023-01-01\",\n",
    "    \"end\": \"2025-12-31\",\n",
    "    \"train_start\": \"2023-01-01\",\n",
    "    \"train_end\": \"2024-04-30\",\n",
    "    \"test_start\": \"2024-05-01\",\n",
    "    \"test_end\": \"2025-05-01\",\n",
    "    \"confidence\":0.99\n",
    "}\n",
    "\n",
    "with open(\"portfolio_config.json\", \"w\") as f:\n",
    "    json.dump(config, f, indent=9)"
   ]
  },
  {
   "cell_type": "code",
   "execution_count": 3,
   "id": "7fdaa145",
   "metadata": {},
   "outputs": [],
   "source": [
    "import numpy as np\n",
    "import pandas as pd\n",
    "import matplotlib.pyplot as plt\n",
    "import yfinance as yf\n",
    "from scipy.stats import norm\n",
    "from IPython.display import Markdown\n",
    "import statsmodels.api as sm\n",
    "from statsmodels.stats.outliers_influence import variance_inflation_factor"
   ]
  },
  {
   "cell_type": "code",
   "execution_count": 4,
   "id": "486f5a98",
   "metadata": {},
   "outputs": [],
   "source": [
    "\n",
    "def get_price_data(tickers, start_date=\"2020-01-01\", end_date=\"2024-12-31\"):\n",
    "    data = yf.download(tickers, start=start_date, end=end_date, auto_adjust = True, progress=False)['Close']\n",
    "    return data"
   ]
  },
  {
   "cell_type": "code",
   "execution_count": 5,
   "id": "f6b1fa6c",
   "metadata": {},
   "outputs": [
    {
     "data": {
      "text/html": [
       "<div>\n",
       "<style scoped>\n",
       "    .dataframe tbody tr th:only-of-type {\n",
       "        vertical-align: middle;\n",
       "    }\n",
       "\n",
       "    .dataframe tbody tr th {\n",
       "        vertical-align: top;\n",
       "    }\n",
       "\n",
       "    .dataframe thead th {\n",
       "        text-align: right;\n",
       "    }\n",
       "</style>\n",
       "<table border=\"1\" class=\"dataframe\">\n",
       "  <thead>\n",
       "    <tr style=\"text-align: right;\">\n",
       "      <th>Ticker</th>\n",
       "      <th>AAPL</th>\n",
       "      <th>AMD</th>\n",
       "      <th>GOOG</th>\n",
       "      <th>MSFT</th>\n",
       "      <th>NVDA</th>\n",
       "    </tr>\n",
       "    <tr>\n",
       "      <th>Date</th>\n",
       "      <th></th>\n",
       "      <th></th>\n",
       "      <th></th>\n",
       "      <th></th>\n",
       "      <th></th>\n",
       "    </tr>\n",
       "  </thead>\n",
       "  <tbody>\n",
       "    <tr>\n",
       "      <th>2023-01-03</th>\n",
       "      <td>123.470619</td>\n",
       "      <td>64.019997</td>\n",
       "      <td>89.277138</td>\n",
       "      <td>234.808975</td>\n",
       "      <td>14.303281</td>\n",
       "    </tr>\n",
       "    <tr>\n",
       "      <th>2023-01-04</th>\n",
       "      <td>124.744125</td>\n",
       "      <td>64.660004</td>\n",
       "      <td>88.291809</td>\n",
       "      <td>224.537674</td>\n",
       "      <td>14.736923</td>\n",
       "    </tr>\n",
       "    <tr>\n",
       "      <th>2023-01-05</th>\n",
       "      <td>123.421257</td>\n",
       "      <td>62.330002</td>\n",
       "      <td>86.360947</td>\n",
       "      <td>217.882874</td>\n",
       "      <td>14.253322</td>\n",
       "    </tr>\n",
       "    <tr>\n",
       "      <th>2023-01-06</th>\n",
       "      <td>127.962440</td>\n",
       "      <td>63.959999</td>\n",
       "      <td>87.744400</td>\n",
       "      <td>220.450684</td>\n",
       "      <td>14.846836</td>\n",
       "    </tr>\n",
       "    <tr>\n",
       "      <th>2023-01-09</th>\n",
       "      <td>128.485657</td>\n",
       "      <td>67.239998</td>\n",
       "      <td>88.381386</td>\n",
       "      <td>222.597076</td>\n",
       "      <td>15.615205</td>\n",
       "    </tr>\n",
       "  </tbody>\n",
       "</table>\n",
       "</div>"
      ],
      "text/plain": [
       "Ticker            AAPL        AMD       GOOG        MSFT       NVDA\n",
       "Date                                                               \n",
       "2023-01-03  123.470619  64.019997  89.277138  234.808975  14.303281\n",
       "2023-01-04  124.744125  64.660004  88.291809  224.537674  14.736923\n",
       "2023-01-05  123.421257  62.330002  86.360947  217.882874  14.253322\n",
       "2023-01-06  127.962440  63.959999  87.744400  220.450684  14.846836\n",
       "2023-01-09  128.485657  67.239998  88.381386  222.597076  15.615205"
      ]
     },
     "execution_count": 5,
     "metadata": {},
     "output_type": "execute_result"
    }
   ],
   "source": [
    "with open(\"portfolio_config.json\", \"r\") as f:\n",
    "    config = json.load(f)\n",
    "\n",
    "tickers = config[\"tickers\"]\n",
    "weights = config[\"weights\"]\n",
    "start = config[\"start\"]\n",
    "end = config[\"end\"]\n",
    "train_start = config[\"train_start\"]\n",
    "train_end = config[\"train_end\"]\n",
    "test_start = config[\"test_start\"]\n",
    "test_end = config[\"test_end\"]\n",
    "confidence = config[\"confidence\"]\n",
    "\n",
    "Port1_Ticker_P = get_price_data(tickers, train_start, train_end)\n",
    "Port1_Ticker_P.head()"
   ]
  },
  {
   "cell_type": "code",
   "execution_count": 6,
   "id": "4ddb6de1",
   "metadata": {},
   "outputs": [],
   "source": [
    "risk_factor_proxies = {\n",
    "    'Market': 'SPY',     # SP500\n",
    "    'Tech': 'XLK',       # Tech sector risk\n",
    "    'IR': 'TLT',         # Interest rate sensitivity\n",
    "    'Mtum': 'MTUM',      # Momentum factor\n",
    "    'Vol': '^VIX',       # Volatility (non-tradable index)\n",
    "    'Value': 'VLUE',     # Value-style equities\n",
    "    'Growth': 'IWF'      # Growth-style equities\n",
    "}"
   ]
  },
  {
   "cell_type": "code",
   "execution_count": 7,
   "id": "116235d9",
   "metadata": {},
   "outputs": [],
   "source": [
    "Factor_Tickers = list(risk_factor_proxies.values())\n",
    "##tickers is the portfolio tickers, which is defined from the config and used for part 1 (portfolio1)\n",
    "All_Tickers = tickers +Factor_Tickers"
   ]
  },
  {
   "cell_type": "code",
   "execution_count": 8,
   "id": "4ecdb8dc",
   "metadata": {},
   "outputs": [],
   "source": [
    "def compute_log_returns(price_df):\n",
    "    log_returns = np.log(price_df / price_df.shift(1))\n",
    "    return log_returns.dropna()"
   ]
  },
  {
   "cell_type": "code",
   "execution_count": 9,
   "id": "ca368586",
   "metadata": {},
   "outputs": [],
   "source": [
    "Price_All = get_price_data(All_Tickers, train_start, train_end)\n",
    "\n",
    "Price_All = get_price_data(All_Tickers, train_start, train_end)\n",
    "Log_All_R = compute_log_returns(Price_All)"
   ]
  },
  {
   "cell_type": "code",
   "execution_count": 10,
   "id": "1f02965d",
   "metadata": {},
   "outputs": [],
   "source": [
    "##Linear Regression\n",
    "Portfolio_R = Log_All_R[tickers]  \n",
    "PortfolioReturn = Portfolio_R @ weights #y\n",
    "\n",
    "Factor_R = Log_All_R[Factor_Tickers]  #x "
   ]
  },
  {
   "cell_type": "code",
   "execution_count": 11,
   "id": "c1b1bbda",
   "metadata": {},
   "outputs": [],
   "source": [
    "def RunOLSRegression(PortfolioReturn: pd.Series,\n",
    "                     FactorReturns: pd.DataFrame) -> pd.DataFrame:\n",
    "\n",
    "    X = sm.add_constant(FactorReturns)\n",
    "    y = PortfolioReturn\n",
    "\n",
    "    model = sm.OLS(y, X).fit()\n",
    "\n",
    "    result_df = pd.DataFrame({\n",
    "        'Factor': model.params.index,\n",
    "        'Beta': model.params.values,\n",
    "        'T-Stat': model.tvalues.values,\n",
    "        'P-Value': model.pvalues.values\n",
    "    })\n",
    "\n",
    "    result_df = result_df[result_df['Factor'] != 'const']\n",
    "    result_df['P-Value'] = result_df['P-Value'].round(4)\n",
    "    result_df = result_df[['Factor', 'Beta', 'T-Stat', 'P-Value']]\n",
    "\n",
    "    return result_df"
   ]
  },
  {
   "cell_type": "code",
   "execution_count": 12,
   "id": "e666a30d",
   "metadata": {},
   "outputs": [],
   "source": [
    "def GetPortR_Square(PortfolioReturn: pd.DataFrame,\n",
    "                    FactorReturns: pd.DataFrame) -> tuple[float, float]:\n",
    "\n",
    "    X = sm.add_constant(FactorReturns)\n",
    "    y = PortfolioReturn\n",
    "    Model = sm.OLS(y, X).fit()\n",
    "    return Model.rsquared.round(2), Model.rsquared_adj.round(2)"
   ]
  },
  {
   "cell_type": "code",
   "execution_count": 13,
   "id": "5ec7e573",
   "metadata": {},
   "outputs": [
    {
     "data": {
      "text/plain": [
       "(0.92, 0.91)"
      ]
     },
     "execution_count": 13,
     "metadata": {},
     "output_type": "execute_result"
    }
   ],
   "source": [
    "GetPortR_Square(PortfolioReturn, Factor_R)"
   ]
  },
  {
   "cell_type": "code",
   "execution_count": 14,
   "id": "12f72457",
   "metadata": {},
   "outputs": [],
   "source": [
    "regression_result = RunOLSRegression(PortfolioReturn, Factor_R)"
   ]
  },
  {
   "cell_type": "code",
   "execution_count": 15,
   "id": "28b3305f",
   "metadata": {},
   "outputs": [
    {
     "data": {
      "text/html": [
       "<div>\n",
       "<style scoped>\n",
       "    .dataframe tbody tr th:only-of-type {\n",
       "        vertical-align: middle;\n",
       "    }\n",
       "\n",
       "    .dataframe tbody tr th {\n",
       "        vertical-align: top;\n",
       "    }\n",
       "\n",
       "    .dataframe thead th {\n",
       "        text-align: right;\n",
       "    }\n",
       "</style>\n",
       "<table border=\"1\" class=\"dataframe\">\n",
       "  <thead>\n",
       "    <tr style=\"text-align: right;\">\n",
       "      <th></th>\n",
       "      <th>Factor</th>\n",
       "      <th>Beta</th>\n",
       "      <th>T-Stat</th>\n",
       "      <th>P-Value</th>\n",
       "    </tr>\n",
       "  </thead>\n",
       "  <tbody>\n",
       "    <tr>\n",
       "      <th>1</th>\n",
       "      <td>SPY</td>\n",
       "      <td>-0.503129</td>\n",
       "      <td>-2.258334</td>\n",
       "      <td>0.0246</td>\n",
       "    </tr>\n",
       "    <tr>\n",
       "      <th>2</th>\n",
       "      <td>XLK</td>\n",
       "      <td>0.808597</td>\n",
       "      <td>11.248982</td>\n",
       "      <td>0.0000</td>\n",
       "    </tr>\n",
       "    <tr>\n",
       "      <th>3</th>\n",
       "      <td>TLT</td>\n",
       "      <td>-0.020341</td>\n",
       "      <td>-0.895393</td>\n",
       "      <td>0.3712</td>\n",
       "    </tr>\n",
       "    <tr>\n",
       "      <th>4</th>\n",
       "      <td>MTUM</td>\n",
       "      <td>-0.198961</td>\n",
       "      <td>-4.705974</td>\n",
       "      <td>0.0000</td>\n",
       "    </tr>\n",
       "    <tr>\n",
       "      <th>5</th>\n",
       "      <td>^VIX</td>\n",
       "      <td>-0.007697</td>\n",
       "      <td>-1.141531</td>\n",
       "      <td>0.2545</td>\n",
       "    </tr>\n",
       "    <tr>\n",
       "      <th>6</th>\n",
       "      <td>VLUE</td>\n",
       "      <td>-0.231635</td>\n",
       "      <td>-2.960544</td>\n",
       "      <td>0.0033</td>\n",
       "    </tr>\n",
       "    <tr>\n",
       "      <th>7</th>\n",
       "      <td>IWF</td>\n",
       "      <td>1.105323</td>\n",
       "      <td>6.485193</td>\n",
       "      <td>0.0000</td>\n",
       "    </tr>\n",
       "  </tbody>\n",
       "</table>\n",
       "</div>"
      ],
      "text/plain": [
       "  Factor      Beta     T-Stat  P-Value\n",
       "1    SPY -0.503129  -2.258334   0.0246\n",
       "2    XLK  0.808597  11.248982   0.0000\n",
       "3    TLT -0.020341  -0.895393   0.3712\n",
       "4   MTUM -0.198961  -4.705974   0.0000\n",
       "5   ^VIX -0.007697  -1.141531   0.2545\n",
       "6   VLUE -0.231635  -2.960544   0.0033\n",
       "7    IWF  1.105323   6.485193   0.0000"
      ]
     },
     "execution_count": 15,
     "metadata": {},
     "output_type": "execute_result"
    }
   ],
   "source": [
    "regression_result "
   ]
  },
  {
   "cell_type": "code",
   "execution_count": 16,
   "id": "199d680e",
   "metadata": {},
   "outputs": [],
   "source": [
    "def CalculateVIF(FactorReturns: pd.DataFrame) -> pd.DataFrame:\n",
    "    \"\"\"\n",
    "    Calculate Variance Inflation Factor (VIF) for each factor.\n",
    "    \"\"\"\n",
    "    vif_data = pd.DataFrame()\n",
    "    vif_data[\"Factor\"] = FactorReturns.columns\n",
    "    vif_data[\"VIF\"] = [variance_inflation_factor(FactorReturns.values, i)\n",
    "                       for i in range(FactorReturns.shape[1])]\n",
    "    return vif_data"
   ]
  },
  {
   "cell_type": "code",
   "execution_count": 17,
   "id": "41917eff",
   "metadata": {},
   "outputs": [],
   "source": [
    "VIF_result = CalculateVIF(Factor_R)"
   ]
  },
  {
   "cell_type": "code",
   "execution_count": 18,
   "id": "aa38d282",
   "metadata": {},
   "outputs": [
    {
     "data": {
      "text/html": [
       "<div>\n",
       "<style scoped>\n",
       "    .dataframe tbody tr th:only-of-type {\n",
       "        vertical-align: middle;\n",
       "    }\n",
       "\n",
       "    .dataframe tbody tr th {\n",
       "        vertical-align: top;\n",
       "    }\n",
       "\n",
       "    .dataframe thead th {\n",
       "        text-align: right;\n",
       "    }\n",
       "</style>\n",
       "<table border=\"1\" class=\"dataframe\">\n",
       "  <thead>\n",
       "    <tr style=\"text-align: right;\">\n",
       "      <th></th>\n",
       "      <th>Factor</th>\n",
       "      <th>VIF</th>\n",
       "    </tr>\n",
       "  </thead>\n",
       "  <tbody>\n",
       "    <tr>\n",
       "      <th>0</th>\n",
       "      <td>SPY</td>\n",
       "      <td>54.166122</td>\n",
       "    </tr>\n",
       "    <tr>\n",
       "      <th>1</th>\n",
       "      <td>XLK</td>\n",
       "      <td>12.143200</td>\n",
       "    </tr>\n",
       "    <tr>\n",
       "      <th>2</th>\n",
       "      <td>TLT</td>\n",
       "      <td>1.046673</td>\n",
       "    </tr>\n",
       "    <tr>\n",
       "      <th>3</th>\n",
       "      <td>MTUM</td>\n",
       "      <td>2.783508</td>\n",
       "    </tr>\n",
       "    <tr>\n",
       "      <th>4</th>\n",
       "      <td>^VIX</td>\n",
       "      <td>2.200322</td>\n",
       "    </tr>\n",
       "    <tr>\n",
       "      <th>5</th>\n",
       "      <td>VLUE</td>\n",
       "      <td>8.193262</td>\n",
       "    </tr>\n",
       "    <tr>\n",
       "      <th>6</th>\n",
       "      <td>IWF</td>\n",
       "      <td>49.713220</td>\n",
       "    </tr>\n",
       "  </tbody>\n",
       "</table>\n",
       "</div>"
      ],
      "text/plain": [
       "  Factor        VIF\n",
       "0    SPY  54.166122\n",
       "1    XLK  12.143200\n",
       "2    TLT   1.046673\n",
       "3   MTUM   2.783508\n",
       "4   ^VIX   2.200322\n",
       "5   VLUE   8.193262\n",
       "6    IWF  49.713220"
      ]
     },
     "execution_count": 18,
     "metadata": {},
     "output_type": "execute_result"
    }
   ],
   "source": [
    "VIF_result"
   ]
  },
  {
   "cell_type": "code",
   "execution_count": 19,
   "id": "5962da08",
   "metadata": {},
   "outputs": [],
   "source": [
    "FactorR = Factor_R.drop(columns=[\"TLT\",\"IWF\",\"^VIX\",\"SPY\"]) \n"
   ]
  },
  {
   "cell_type": "code",
   "execution_count": 20,
   "id": "10cb8d6b",
   "metadata": {},
   "outputs": [
    {
     "data": {
      "text/plain": [
       "(0.89, 0.89)"
      ]
     },
     "execution_count": 20,
     "metadata": {},
     "output_type": "execute_result"
    }
   ],
   "source": [
    "GetPortR_Square(PortfolioReturn, FactorR)"
   ]
  },
  {
   "cell_type": "code",
   "execution_count": 21,
   "id": "925293b7",
   "metadata": {},
   "outputs": [],
   "source": [
    "regression_result = RunOLSRegression(PortfolioReturn, FactorR)"
   ]
  },
  {
   "cell_type": "code",
   "execution_count": 22,
   "id": "9ae56be0",
   "metadata": {},
   "outputs": [
    {
     "data": {
      "text/html": [
       "<div>\n",
       "<style scoped>\n",
       "    .dataframe tbody tr th:only-of-type {\n",
       "        vertical-align: middle;\n",
       "    }\n",
       "\n",
       "    .dataframe tbody tr th {\n",
       "        vertical-align: top;\n",
       "    }\n",
       "\n",
       "    .dataframe thead th {\n",
       "        text-align: right;\n",
       "    }\n",
       "</style>\n",
       "<table border=\"1\" class=\"dataframe\">\n",
       "  <thead>\n",
       "    <tr style=\"text-align: right;\">\n",
       "      <th></th>\n",
       "      <th>Factor</th>\n",
       "      <th>Beta</th>\n",
       "      <th>T-Stat</th>\n",
       "      <th>P-Value</th>\n",
       "    </tr>\n",
       "  </thead>\n",
       "  <tbody>\n",
       "    <tr>\n",
       "      <th>1</th>\n",
       "      <td>XLK</td>\n",
       "      <td>1.390297</td>\n",
       "      <td>40.554562</td>\n",
       "      <td>0.0000</td>\n",
       "    </tr>\n",
       "    <tr>\n",
       "      <th>2</th>\n",
       "      <td>MTUM</td>\n",
       "      <td>-0.083369</td>\n",
       "      <td>-1.987729</td>\n",
       "      <td>0.0477</td>\n",
       "    </tr>\n",
       "    <tr>\n",
       "      <th>3</th>\n",
       "      <td>VLUE</td>\n",
       "      <td>-0.305527</td>\n",
       "      <td>-7.512089</td>\n",
       "      <td>0.0000</td>\n",
       "    </tr>\n",
       "  </tbody>\n",
       "</table>\n",
       "</div>"
      ],
      "text/plain": [
       "  Factor      Beta     T-Stat  P-Value\n",
       "1    XLK  1.390297  40.554562   0.0000\n",
       "2   MTUM -0.083369  -1.987729   0.0477\n",
       "3   VLUE -0.305527  -7.512089   0.0000"
      ]
     },
     "execution_count": 22,
     "metadata": {},
     "output_type": "execute_result"
    }
   ],
   "source": [
    "regression_result "
   ]
  },
  {
   "cell_type": "code",
   "execution_count": 23,
   "id": "d6ca1d4d",
   "metadata": {},
   "outputs": [
    {
     "data": {
      "text/html": [
       "<div>\n",
       "<style scoped>\n",
       "    .dataframe tbody tr th:only-of-type {\n",
       "        vertical-align: middle;\n",
       "    }\n",
       "\n",
       "    .dataframe tbody tr th {\n",
       "        vertical-align: top;\n",
       "    }\n",
       "\n",
       "    .dataframe thead th {\n",
       "        text-align: right;\n",
       "    }\n",
       "</style>\n",
       "<table border=\"1\" class=\"dataframe\">\n",
       "  <thead>\n",
       "    <tr style=\"text-align: right;\">\n",
       "      <th>Ticker</th>\n",
       "      <th>XLK</th>\n",
       "      <th>MTUM</th>\n",
       "      <th>VLUE</th>\n",
       "    </tr>\n",
       "    <tr>\n",
       "      <th>Ticker</th>\n",
       "      <th></th>\n",
       "      <th></th>\n",
       "      <th></th>\n",
       "    </tr>\n",
       "  </thead>\n",
       "  <tbody>\n",
       "    <tr>\n",
       "      <th>XLK</th>\n",
       "      <td>1.000000</td>\n",
       "      <td>0.699360</td>\n",
       "      <td>0.608387</td>\n",
       "    </tr>\n",
       "    <tr>\n",
       "      <th>MTUM</th>\n",
       "      <td>0.699360</td>\n",
       "      <td>1.000000</td>\n",
       "      <td>0.610275</td>\n",
       "    </tr>\n",
       "    <tr>\n",
       "      <th>VLUE</th>\n",
       "      <td>0.608387</td>\n",
       "      <td>0.610275</td>\n",
       "      <td>1.000000</td>\n",
       "    </tr>\n",
       "  </tbody>\n",
       "</table>\n",
       "</div>"
      ],
      "text/plain": [
       "Ticker       XLK      MTUM      VLUE\n",
       "Ticker                              \n",
       "XLK     1.000000  0.699360  0.608387\n",
       "MTUM    0.699360  1.000000  0.610275\n",
       "VLUE    0.608387  0.610275  1.000000"
      ]
     },
     "execution_count": 23,
     "metadata": {},
     "output_type": "execute_result"
    }
   ],
   "source": [
    "FactorR.corr()"
   ]
  },
  {
   "cell_type": "code",
   "execution_count": 24,
   "id": "fd56b029",
   "metadata": {},
   "outputs": [
    {
     "data": {
      "text/html": [
       "<div>\n",
       "<style scoped>\n",
       "    .dataframe tbody tr th:only-of-type {\n",
       "        vertical-align: middle;\n",
       "    }\n",
       "\n",
       "    .dataframe tbody tr th {\n",
       "        vertical-align: top;\n",
       "    }\n",
       "\n",
       "    .dataframe thead th {\n",
       "        text-align: right;\n",
       "    }\n",
       "</style>\n",
       "<table border=\"1\" class=\"dataframe\">\n",
       "  <thead>\n",
       "    <tr style=\"text-align: right;\">\n",
       "      <th></th>\n",
       "      <th>Factor</th>\n",
       "      <th>VIF</th>\n",
       "    </tr>\n",
       "  </thead>\n",
       "  <tbody>\n",
       "    <tr>\n",
       "      <th>0</th>\n",
       "      <td>XLK</td>\n",
       "      <td>2.192067</td>\n",
       "    </tr>\n",
       "    <tr>\n",
       "      <th>1</th>\n",
       "      <td>MTUM</td>\n",
       "      <td>2.202148</td>\n",
       "    </tr>\n",
       "    <tr>\n",
       "      <th>2</th>\n",
       "      <td>VLUE</td>\n",
       "      <td>1.779850</td>\n",
       "    </tr>\n",
       "  </tbody>\n",
       "</table>\n",
       "</div>"
      ],
      "text/plain": [
       "  Factor       VIF\n",
       "0    XLK  2.192067\n",
       "1   MTUM  2.202148\n",
       "2   VLUE  1.779850"
      ]
     },
     "execution_count": 24,
     "metadata": {},
     "output_type": "execute_result"
    }
   ],
   "source": [
    "VIF_result = CalculateVIF(FactorR)\n",
    "VIF_result "
   ]
  },
  {
   "cell_type": "code",
   "execution_count": 25,
   "id": "435078e4",
   "metadata": {},
   "outputs": [
    {
     "data": {
      "text/html": [
       "<div>\n",
       "<style scoped>\n",
       "    .dataframe tbody tr th:only-of-type {\n",
       "        vertical-align: middle;\n",
       "    }\n",
       "\n",
       "    .dataframe tbody tr th {\n",
       "        vertical-align: top;\n",
       "    }\n",
       "\n",
       "    .dataframe thead th {\n",
       "        text-align: right;\n",
       "    }\n",
       "</style>\n",
       "<table border=\"1\" class=\"dataframe\">\n",
       "  <thead>\n",
       "    <tr style=\"text-align: right;\">\n",
       "      <th></th>\n",
       "      <th>Factor</th>\n",
       "      <th>Beta</th>\n",
       "      <th>T-Stat</th>\n",
       "      <th>P-Value</th>\n",
       "    </tr>\n",
       "  </thead>\n",
       "  <tbody>\n",
       "    <tr>\n",
       "      <th>1</th>\n",
       "      <td>XLK</td>\n",
       "      <td>1.390297</td>\n",
       "      <td>40.554562</td>\n",
       "      <td>0.0000</td>\n",
       "    </tr>\n",
       "    <tr>\n",
       "      <th>2</th>\n",
       "      <td>MTUM</td>\n",
       "      <td>-0.083369</td>\n",
       "      <td>-1.987729</td>\n",
       "      <td>0.0477</td>\n",
       "    </tr>\n",
       "    <tr>\n",
       "      <th>3</th>\n",
       "      <td>VLUE</td>\n",
       "      <td>-0.305527</td>\n",
       "      <td>-7.512089</td>\n",
       "      <td>0.0000</td>\n",
       "    </tr>\n",
       "  </tbody>\n",
       "</table>\n",
       "</div>"
      ],
      "text/plain": [
       "  Factor      Beta     T-Stat  P-Value\n",
       "1    XLK  1.390297  40.554562   0.0000\n",
       "2   MTUM -0.083369  -1.987729   0.0477\n",
       "3   VLUE -0.305527  -7.512089   0.0000"
      ]
     },
     "execution_count": 25,
     "metadata": {},
     "output_type": "execute_result"
    }
   ],
   "source": [
    "regression_result = RunOLSRegression(PortfolioReturn, FactorR)\n",
    "regression_result"
   ]
  },
  {
   "cell_type": "code",
   "execution_count": 26,
   "id": "17799acd",
   "metadata": {},
   "outputs": [],
   "source": [
    "def SimulateFactors(FactorReturns: pd.DataFrame, NSim: int = 10000):\n",
    "    \"\"\"\n",
    "    Simulate multivariate normal factor returns based on historical covariance and mean.\n",
    "    \"\"\"\n",
    "    assert isinstance(NSim, int), \"NSim must be an integer\"\n",
    "\n",
    "    FactorCov = FactorReturns.cov().values\n",
    "    FactorMean = FactorReturns.mean().values\n",
    "    Simulated = np.random.multivariate_normal(mean=FactorMean, cov=FactorCov, size=NSim)\n",
    "\n",
    "    return pd.DataFrame(Simulated, columns=FactorReturns.columns)"
   ]
  },
  {
   "cell_type": "code",
   "execution_count": 27,
   "id": "f1f4cb0e",
   "metadata": {},
   "outputs": [],
   "source": [
    "model = sm.OLS(PortfolioReturn, sm.add_constant(FactorR)).fit()\n",
    "PortfolioBeta = model.params.drop(\"const\")\n",
    "\n",
    "Simulated_Factor_DF = SimulateFactors(FactorR, 1000)[PortfolioBeta.index]\n",
    "SimulatedPortfolioReturn = Simulated_Factor_DF @ PortfolioBeta.values"
   ]
  },
  {
   "cell_type": "code",
   "execution_count": 60,
   "id": "30149a66-13bc-4a5f-8688-8789c47ccff7",
   "metadata": {},
   "outputs": [
    {
     "data": {
      "text/plain": [
       "Index(['XLK', 'MTUM', 'VLUE'], dtype='object')"
      ]
     },
     "execution_count": 60,
     "metadata": {},
     "output_type": "execute_result"
    }
   ],
   "source": [
    "PortfolioBeta.index"
   ]
  },
  {
   "cell_type": "code",
   "execution_count": null,
   "id": "0844518a-45a2-4b40-b3dc-af6fe99a3d08",
   "metadata": {},
   "outputs": [],
   "source": []
  },
  {
   "cell_type": "code",
   "execution_count": 28,
   "id": "b63ebed8",
   "metadata": {},
   "outputs": [
    {
     "data": {
      "text/html": [
       "<div>\n",
       "<style scoped>\n",
       "    .dataframe tbody tr th:only-of-type {\n",
       "        vertical-align: middle;\n",
       "    }\n",
       "\n",
       "    .dataframe tbody tr th {\n",
       "        vertical-align: top;\n",
       "    }\n",
       "\n",
       "    .dataframe thead th {\n",
       "        text-align: right;\n",
       "    }\n",
       "</style>\n",
       "<table border=\"1\" class=\"dataframe\">\n",
       "  <thead>\n",
       "    <tr style=\"text-align: right;\">\n",
       "      <th>Ticker</th>\n",
       "      <th>XLK</th>\n",
       "      <th>MTUM</th>\n",
       "      <th>VLUE</th>\n",
       "    </tr>\n",
       "  </thead>\n",
       "  <tbody>\n",
       "    <tr>\n",
       "      <th>0</th>\n",
       "      <td>-0.008074</td>\n",
       "      <td>0.006038</td>\n",
       "      <td>0.002179</td>\n",
       "    </tr>\n",
       "    <tr>\n",
       "      <th>1</th>\n",
       "      <td>0.007387</td>\n",
       "      <td>-0.003998</td>\n",
       "      <td>0.001040</td>\n",
       "    </tr>\n",
       "    <tr>\n",
       "      <th>2</th>\n",
       "      <td>0.009060</td>\n",
       "      <td>0.002967</td>\n",
       "      <td>-0.000849</td>\n",
       "    </tr>\n",
       "    <tr>\n",
       "      <th>3</th>\n",
       "      <td>-0.003486</td>\n",
       "      <td>0.000640</td>\n",
       "      <td>0.006416</td>\n",
       "    </tr>\n",
       "    <tr>\n",
       "      <th>4</th>\n",
       "      <td>0.012428</td>\n",
       "      <td>0.022139</td>\n",
       "      <td>0.024787</td>\n",
       "    </tr>\n",
       "    <tr>\n",
       "      <th>...</th>\n",
       "      <td>...</td>\n",
       "      <td>...</td>\n",
       "      <td>...</td>\n",
       "    </tr>\n",
       "    <tr>\n",
       "      <th>995</th>\n",
       "      <td>-0.005380</td>\n",
       "      <td>0.005093</td>\n",
       "      <td>0.002755</td>\n",
       "    </tr>\n",
       "    <tr>\n",
       "      <th>996</th>\n",
       "      <td>0.015117</td>\n",
       "      <td>0.016360</td>\n",
       "      <td>0.019740</td>\n",
       "    </tr>\n",
       "    <tr>\n",
       "      <th>997</th>\n",
       "      <td>-0.012654</td>\n",
       "      <td>-0.001707</td>\n",
       "      <td>0.005564</td>\n",
       "    </tr>\n",
       "    <tr>\n",
       "      <th>998</th>\n",
       "      <td>-0.002278</td>\n",
       "      <td>0.000850</td>\n",
       "      <td>-0.008030</td>\n",
       "    </tr>\n",
       "    <tr>\n",
       "      <th>999</th>\n",
       "      <td>0.002970</td>\n",
       "      <td>0.006853</td>\n",
       "      <td>-0.006440</td>\n",
       "    </tr>\n",
       "  </tbody>\n",
       "</table>\n",
       "<p>1000 rows × 3 columns</p>\n",
       "</div>"
      ],
      "text/plain": [
       "Ticker       XLK      MTUM      VLUE\n",
       "0      -0.008074  0.006038  0.002179\n",
       "1       0.007387 -0.003998  0.001040\n",
       "2       0.009060  0.002967 -0.000849\n",
       "3      -0.003486  0.000640  0.006416\n",
       "4       0.012428  0.022139  0.024787\n",
       "..           ...       ...       ...\n",
       "995    -0.005380  0.005093  0.002755\n",
       "996     0.015117  0.016360  0.019740\n",
       "997    -0.012654 -0.001707  0.005564\n",
       "998    -0.002278  0.000850 -0.008030\n",
       "999     0.002970  0.006853 -0.006440\n",
       "\n",
       "[1000 rows x 3 columns]"
      ]
     },
     "execution_count": 28,
     "metadata": {},
     "output_type": "execute_result"
    }
   ],
   "source": [
    "Simulated_Factor_DF"
   ]
  },
  {
   "cell_type": "code",
   "execution_count": 29,
   "id": "6df1f851",
   "metadata": {},
   "outputs": [
    {
     "data": {
      "text/plain": [
       "0     -0.012394\n",
       "1      0.010286\n",
       "2      0.012608\n",
       "3     -0.006861\n",
       "4      0.007860\n",
       "         ...   \n",
       "995   -0.008747\n",
       "996    0.013622\n",
       "997   -0.019151\n",
       "998   -0.000784\n",
       "999    0.005526\n",
       "Length: 1000, dtype: float64"
      ]
     },
     "execution_count": 29,
     "metadata": {},
     "output_type": "execute_result"
    }
   ],
   "source": [
    "SimulatedPortfolioReturn"
   ]
  },
  {
   "cell_type": "code",
   "execution_count": 30,
   "id": "8ae24b29",
   "metadata": {},
   "outputs": [
    {
     "name": "stdout",
     "output_type": "stream",
     "text": [
      "99% VaR: -3.27%\n"
     ]
    }
   ],
   "source": [
    "SimulatedPortfolioVaR = np.percentile(SimulatedPortfolioReturn, (1-confidence)*100)\n",
    "print(f\"{int(confidence*100)}% VaR: {SimulatedPortfolioVaR:.2%}\")"
   ]
  },
  {
   "cell_type": "code",
   "execution_count": 31,
   "id": "d5e210d0",
   "metadata": {},
   "outputs": [
    {
     "data": {
      "text/plain": [
       "0     -0.012394\n",
       "1      0.010286\n",
       "2      0.012608\n",
       "3     -0.006861\n",
       "4      0.007860\n",
       "         ...   \n",
       "995   -0.008747\n",
       "996    0.013622\n",
       "997   -0.019151\n",
       "998   -0.000784\n",
       "999    0.005526\n",
       "Length: 1000, dtype: float64"
      ]
     },
     "execution_count": 31,
     "metadata": {},
     "output_type": "execute_result"
    }
   ],
   "source": [
    "SimulatedPortfolioReturn"
   ]
  },
  {
   "cell_type": "code",
   "execution_count": 32,
   "id": "ce22c609",
   "metadata": {},
   "outputs": [
    {
     "data": {
      "text/html": [
       "<div>\n",
       "<style scoped>\n",
       "    .dataframe tbody tr th:only-of-type {\n",
       "        vertical-align: middle;\n",
       "    }\n",
       "\n",
       "    .dataframe tbody tr th {\n",
       "        vertical-align: top;\n",
       "    }\n",
       "\n",
       "    .dataframe thead th {\n",
       "        text-align: right;\n",
       "    }\n",
       "</style>\n",
       "<table border=\"1\" class=\"dataframe\">\n",
       "  <thead>\n",
       "    <tr style=\"text-align: right;\">\n",
       "      <th>Ticker</th>\n",
       "      <th>AAPL</th>\n",
       "      <th>AMD</th>\n",
       "      <th>GOOG</th>\n",
       "      <th>IWF</th>\n",
       "      <th>MSFT</th>\n",
       "      <th>MTUM</th>\n",
       "      <th>NVDA</th>\n",
       "      <th>SPY</th>\n",
       "      <th>TLT</th>\n",
       "      <th>VLUE</th>\n",
       "      <th>XLK</th>\n",
       "      <th>^VIX</th>\n",
       "    </tr>\n",
       "    <tr>\n",
       "      <th>Date</th>\n",
       "      <th></th>\n",
       "      <th></th>\n",
       "      <th></th>\n",
       "      <th></th>\n",
       "      <th></th>\n",
       "      <th></th>\n",
       "      <th></th>\n",
       "      <th></th>\n",
       "      <th></th>\n",
       "      <th></th>\n",
       "      <th></th>\n",
       "      <th></th>\n",
       "    </tr>\n",
       "  </thead>\n",
       "  <tbody>\n",
       "    <tr>\n",
       "      <th>2023-01-04</th>\n",
       "      <td>0.010261</td>\n",
       "      <td>0.009947</td>\n",
       "      <td>-0.011098</td>\n",
       "      <td>0.003521</td>\n",
       "      <td>-0.044729</td>\n",
       "      <td>-0.000906</td>\n",
       "      <td>0.029867</td>\n",
       "      <td>0.007690</td>\n",
       "      <td>0.013607</td>\n",
       "      <td>0.015567</td>\n",
       "      <td>0.002593</td>\n",
       "      <td>-0.039640</td>\n",
       "    </tr>\n",
       "    <tr>\n",
       "      <th>2023-01-05</th>\n",
       "      <td>-0.010661</td>\n",
       "      <td>-0.036700</td>\n",
       "      <td>-0.022112</td>\n",
       "      <td>-0.016301</td>\n",
       "      <td>-0.030086</td>\n",
       "      <td>-0.000697</td>\n",
       "      <td>-0.033366</td>\n",
       "      <td>-0.011479</td>\n",
       "      <td>0.004172</td>\n",
       "      <td>-0.005090</td>\n",
       "      <td>-0.019612</td>\n",
       "      <td>0.020239</td>\n",
       "    </tr>\n",
       "    <tr>\n",
       "      <th>2023-01-06</th>\n",
       "      <td>0.036133</td>\n",
       "      <td>0.025815</td>\n",
       "      <td>0.015892</td>\n",
       "      <td>0.023446</td>\n",
       "      <td>0.011716</td>\n",
       "      <td>0.016602</td>\n",
       "      <td>0.040797</td>\n",
       "      <td>0.022673</td>\n",
       "      <td>0.018229</td>\n",
       "      <td>0.025087</td>\n",
       "      <td>0.028874</td>\n",
       "      <td>-0.061042</td>\n",
       "    </tr>\n",
       "    <tr>\n",
       "      <th>2023-01-09</th>\n",
       "      <td>0.004080</td>\n",
       "      <td>0.050010</td>\n",
       "      <td>0.007233</td>\n",
       "      <td>0.005198</td>\n",
       "      <td>0.009689</td>\n",
       "      <td>-0.013467</td>\n",
       "      <td>0.050458</td>\n",
       "      <td>-0.000567</td>\n",
       "      <td>0.005310</td>\n",
       "      <td>-0.002544</td>\n",
       "      <td>0.011558</td>\n",
       "      <td>0.038984</td>\n",
       "    </tr>\n",
       "    <tr>\n",
       "      <th>2023-01-10</th>\n",
       "      <td>0.004447</td>\n",
       "      <td>0.011974</td>\n",
       "      <td>0.004943</td>\n",
       "      <td>0.007379</td>\n",
       "      <td>0.007588</td>\n",
       "      <td>0.005132</td>\n",
       "      <td>0.017821</td>\n",
       "      <td>0.006988</td>\n",
       "      <td>-0.016688</td>\n",
       "      <td>0.007087</td>\n",
       "      <td>0.006163</td>\n",
       "      <td>-0.065358</td>\n",
       "    </tr>\n",
       "    <tr>\n",
       "      <th>...</th>\n",
       "      <td>...</td>\n",
       "      <td>...</td>\n",
       "      <td>...</td>\n",
       "      <td>...</td>\n",
       "      <td>...</td>\n",
       "      <td>...</td>\n",
       "      <td>...</td>\n",
       "      <td>...</td>\n",
       "      <td>...</td>\n",
       "      <td>...</td>\n",
       "      <td>...</td>\n",
       "      <td>...</td>\n",
       "    </tr>\n",
       "    <tr>\n",
       "      <th>2024-04-23</th>\n",
       "      <td>0.006371</td>\n",
       "      <td>0.024128</td>\n",
       "      <td>0.012395</td>\n",
       "      <td>0.014705</td>\n",
       "      <td>0.016351</td>\n",
       "      <td>0.021221</td>\n",
       "      <td>0.035881</td>\n",
       "      <td>0.011797</td>\n",
       "      <td>0.000337</td>\n",
       "      <td>0.007911</td>\n",
       "      <td>0.014717</td>\n",
       "      <td>-0.076654</td>\n",
       "    </tr>\n",
       "    <tr>\n",
       "      <th>2024-04-24</th>\n",
       "      <td>0.012622</td>\n",
       "      <td>-0.003487</td>\n",
       "      <td>0.007352</td>\n",
       "      <td>0.000185</td>\n",
       "      <td>0.003649</td>\n",
       "      <td>-0.004590</td>\n",
       "      <td>-0.033884</td>\n",
       "      <td>-0.000475</td>\n",
       "      <td>-0.007101</td>\n",
       "      <td>0.003108</td>\n",
       "      <td>0.004555</td>\n",
       "      <td>0.017688</td>\n",
       "    </tr>\n",
       "    <tr>\n",
       "      <th>2024-04-25</th>\n",
       "      <td>0.005134</td>\n",
       "      <td>0.013224</td>\n",
       "      <td>-0.019747</td>\n",
       "      <td>-0.006314</td>\n",
       "      <td>-0.024800</td>\n",
       "      <td>-0.004611</td>\n",
       "      <td>0.036416</td>\n",
       "      <td>-0.003806</td>\n",
       "      <td>-0.007038</td>\n",
       "      <td>-0.006031</td>\n",
       "      <td>-0.002174</td>\n",
       "      <td>-0.038294</td>\n",
       "    </tr>\n",
       "    <tr>\n",
       "      <th>2024-04-26</th>\n",
       "      <td>-0.003479</td>\n",
       "      <td>0.023397</td>\n",
       "      <td>0.094993</td>\n",
       "      <td>0.018276</td>\n",
       "      <td>0.018079</td>\n",
       "      <td>0.012601</td>\n",
       "      <td>0.059924</td>\n",
       "      <td>0.009429</td>\n",
       "      <td>0.005227</td>\n",
       "      <td>-0.003225</td>\n",
       "      <td>0.011222</td>\n",
       "      <td>-0.022369</td>\n",
       "    </tr>\n",
       "    <tr>\n",
       "      <th>2024-04-29</th>\n",
       "      <td>0.024505</td>\n",
       "      <td>0.017633</td>\n",
       "      <td>-0.033903</td>\n",
       "      <td>0.001340</td>\n",
       "      <td>-0.010067</td>\n",
       "      <td>0.000334</td>\n",
       "      <td>0.000251</td>\n",
       "      <td>0.003535</td>\n",
       "      <td>0.008351</td>\n",
       "      <td>0.006244</td>\n",
       "      <td>0.004294</td>\n",
       "      <td>-0.024244</td>\n",
       "    </tr>\n",
       "  </tbody>\n",
       "</table>\n",
       "<p>331 rows × 12 columns</p>\n",
       "</div>"
      ],
      "text/plain": [
       "Ticker          AAPL       AMD      GOOG       IWF      MSFT      MTUM  \\\n",
       "Date                                                                     \n",
       "2023-01-04  0.010261  0.009947 -0.011098  0.003521 -0.044729 -0.000906   \n",
       "2023-01-05 -0.010661 -0.036700 -0.022112 -0.016301 -0.030086 -0.000697   \n",
       "2023-01-06  0.036133  0.025815  0.015892  0.023446  0.011716  0.016602   \n",
       "2023-01-09  0.004080  0.050010  0.007233  0.005198  0.009689 -0.013467   \n",
       "2023-01-10  0.004447  0.011974  0.004943  0.007379  0.007588  0.005132   \n",
       "...              ...       ...       ...       ...       ...       ...   \n",
       "2024-04-23  0.006371  0.024128  0.012395  0.014705  0.016351  0.021221   \n",
       "2024-04-24  0.012622 -0.003487  0.007352  0.000185  0.003649 -0.004590   \n",
       "2024-04-25  0.005134  0.013224 -0.019747 -0.006314 -0.024800 -0.004611   \n",
       "2024-04-26 -0.003479  0.023397  0.094993  0.018276  0.018079  0.012601   \n",
       "2024-04-29  0.024505  0.017633 -0.033903  0.001340 -0.010067  0.000334   \n",
       "\n",
       "Ticker          NVDA       SPY       TLT      VLUE       XLK      ^VIX  \n",
       "Date                                                                    \n",
       "2023-01-04  0.029867  0.007690  0.013607  0.015567  0.002593 -0.039640  \n",
       "2023-01-05 -0.033366 -0.011479  0.004172 -0.005090 -0.019612  0.020239  \n",
       "2023-01-06  0.040797  0.022673  0.018229  0.025087  0.028874 -0.061042  \n",
       "2023-01-09  0.050458 -0.000567  0.005310 -0.002544  0.011558  0.038984  \n",
       "2023-01-10  0.017821  0.006988 -0.016688  0.007087  0.006163 -0.065358  \n",
       "...              ...       ...       ...       ...       ...       ...  \n",
       "2024-04-23  0.035881  0.011797  0.000337  0.007911  0.014717 -0.076654  \n",
       "2024-04-24 -0.033884 -0.000475 -0.007101  0.003108  0.004555  0.017688  \n",
       "2024-04-25  0.036416 -0.003806 -0.007038 -0.006031 -0.002174 -0.038294  \n",
       "2024-04-26  0.059924  0.009429  0.005227 -0.003225  0.011222 -0.022369  \n",
       "2024-04-29  0.000251  0.003535  0.008351  0.006244  0.004294 -0.024244  \n",
       "\n",
       "[331 rows x 12 columns]"
      ]
     },
     "execution_count": 32,
     "metadata": {},
     "output_type": "execute_result"
    }
   ],
   "source": [
    "Log_All_R"
   ]
  },
  {
   "cell_type": "code",
   "execution_count": 33,
   "id": "1d709cc4",
   "metadata": {},
   "outputs": [],
   "source": [
    "test_start = config[\"test_start\"]\n",
    "test_end = config[\"test_end\"]\n",
    "\n",
    "test_prices = get_price_data(tickers, test_start, test_end)\n",
    "test_returns = compute_log_returns(test_prices)\n",
    "test_P_returns = test_returns[tickers]  \n",
    "test_P_return = test_P_returns @ weights"
   ]
  },
  {
   "cell_type": "code",
   "execution_count": 34,
   "id": "d1f5ee28",
   "metadata": {},
   "outputs": [
    {
     "data": {
      "text/plain": [
       "Date\n",
       "2024-05-02    0.018841\n",
       "2024-05-03    0.033183\n",
       "2024-05-06    0.012984\n",
       "2024-05-07   -0.003001\n",
       "2024-05-08   -0.001136\n",
       "                ...   \n",
       "2025-04-24    0.029008\n",
       "2025-04-25    0.017130\n",
       "2025-04-28   -0.004945\n",
       "2025-04-29    0.003215\n",
       "2025-04-30    0.002663\n",
       "Length: 249, dtype: float64"
      ]
     },
     "execution_count": 34,
     "metadata": {},
     "output_type": "execute_result"
    }
   ],
   "source": [
    "test_P_return "
   ]
  },
  {
   "cell_type": "code",
   "execution_count": 72,
   "id": "c94646d1",
   "metadata": {},
   "outputs": [],
   "source": [
    "def backtest_VaR(real_returns, VaR):\n",
    "    \"\"\"\n",
    "    Backtest VaR: support both static (single value) and rolling (Series) VaR.\n",
    "\n",
    "    Parameters:\n",
    "        real_returns (pd.Series): Actual portfolio returns.\n",
    "        VaR (float or pd.Series): Either a single VaR value or a rolling VaR series.\n",
    "\n",
    "    Returns:\n",
    "        dict: violations, total, rate, zone\n",
    "    \"\"\"\n",
    "    if not isinstance(real_returns, pd.Series):\n",
    "        real_returns = pd.Series(real_returns)\n",
    "\n",
    "    # Case 1: Rolling VaR (Series)\n",
    "    if isinstance(VaR, pd.Series):\n",
    "        VaR = VaR.loc[real_returns.index]  # ensure alignment\n",
    "        violations = real_returns < VaR\n",
    "    else:\n",
    "        # Case 2: Static VaR (float)\n",
    "        violations = real_returns < VaR\n",
    "\n",
    "    num_violations = violations.sum()\n",
    "    total_days = len(real_returns)\n",
    "    violation_rate = num_violations / total_days\n",
    "\n",
    "    # Basel traffic light zones\n",
    "    if num_violations <= 4:\n",
    "        zone = \"Green\"\n",
    "    elif num_violations <= 9:\n",
    "        zone = \"Yellow\"\n",
    "    else:\n",
    "        zone = \"Red\"\n",
    "\n",
    "    return {\n",
    "        \"violations\": int(num_violations),\n",
    "        \"total\": total_days,\n",
    "        \"rate\": violation_rate,\n",
    "        \"zone\": zone\n",
    "    }"
   ]
  },
  {
   "cell_type": "code",
   "execution_count": 73,
   "id": "ddd739bd",
   "metadata": {},
   "outputs": [
    {
     "data": {
      "text/plain": [
       "{'violations': 13, 'total': 249, 'rate': 0.05220883534136546, 'zone': 'Red'}"
      ]
     },
     "execution_count": 73,
     "metadata": {},
     "output_type": "execute_result"
    }
   ],
   "source": [
    "backtest_VaR(test_P_return , SimulatedPortfolioVaR)"
   ]
  },
  {
   "cell_type": "code",
   "execution_count": 74,
   "id": "35ac36f4",
   "metadata": {},
   "outputs": [
    {
     "data": {
      "image/png": "[encoded data removed]",
      "text/plain": [
       "<Figure size 1200x500 with 1 Axes>"
      ]
     },
     "metadata": {},
     "output_type": "display_data"
    }
   ],
   "source": [
    "x = test_P_return.index\n",
    "y = test_P_return.values.astype(\"float64\")\n",
    "VaR_line = SimulatedPortfolioVaR\n",
    "y2 = np.full_like(y, VaR_line)\n",
    "mask = y < VaR_line\n",
    "\n",
    "\n",
    "result = backtest_VaR(test_P_return, SimulatedPortfolioVaR)\n",
    "\n",
    "\n",
    "plt.figure(figsize=(12, 5))\n",
    "plt.plot(x, y, label=\"Actual Portfolio Return\", color=\"blue\", linewidth=1)\n",
    "plt.axhline(y=VaR_line, color=\"red\", linestyle=\"--\", linewidth=2,\n",
    "            label=f\"99% VaR = {VaR_line:.2%}\")\n",
    "plt.fill_between(x, y, y2, where=mask, color='red', alpha=0.3, label=\"Violations\")\n",
    "\n",
    "plt.title(f\"Backtesting: Actual Returns vs 99% VaR\\n\"\n",
    "          f\"Violations = {result['violations']} | \"\n",
    "          f\"Rate = {result['rate']}| Zone = {result['zone']}\")\n",
    "plt.xlabel(\"Date\")\n",
    "plt.ylabel(\"Daily Return\")\n",
    "plt.legend()\n",
    "plt.grid(True)\n",
    "plt.tight_layout()\n",
    "plt.show()"
   ]
  },
  {
   "cell_type": "code",
   "execution_count": 75,
   "id": "0294ed01",
   "metadata": {},
   "outputs": [
    {
     "data": {
      "text/markdown": [
       "\n",
       "### Output: Backtest Result Summary\n",
       "\n",
       "- Total backtesting days: **249**\n",
       "- VaR threshold (99%): **-3.27%**\n",
       "- Violations: **13**  \n",
       "- Violation rate: **0.05220883534136546**\n",
       "\n",
       "**Basel zone**: `Red`  \n",
       "→ Based on the number of violations, this model falls in the **Red zone** under the Basel backtesting framework.\n"
      ],
      "text/plain": [
       "<IPython.core.display.Markdown object>"
      ]
     },
     "execution_count": 75,
     "metadata": {},
     "output_type": "execute_result"
    }
   ],
   "source": [
    "Markdown(f\"\"\"\n",
    "### Output: Backtest Result Summary\n",
    "\n",
    "- Total backtesting days: **{result['total']}**\n",
    "- VaR threshold (99%): **{SimulatedPortfolioVaR:.2%}**\n",
    "- Violations: **{result['violations']}**  \n",
    "- Violation rate: **{result['rate']}**\n",
    "\n",
    "**Basel zone**: `{result['zone']}`  \n",
    "→ Based on the number of violations, this model falls in the **{result['zone']} zone** under the Basel backtesting framework.\n",
    "\"\"\")"
   ]
  },
  {
   "cell_type": "markdown",
   "id": "dcd04bcf-fbf2-4505-b821-96c5ce634ae1",
   "metadata": {},
   "source": [
    "### Supplementary Section: Rolling Backtest\n",
    "\n",
    "This section extends the baseline VaR backtest by incorporating a rolling evaluation over a 250-day estimation window. The simulation is updated daily, and violations are tracked dynamically to reflect changing market conditions."
   ]
  },
  {
   "cell_type": "code",
   "execution_count": 76,
   "id": "fcb787d1",
   "metadata": {},
   "outputs": [],
   "source": [
    "## Pls note: beta parameter need to include both beta and the tickers\n",
    "def generate_rolling_VaR_series(\n",
    "    factor_returns,\n",
    "    beta,\n",
    "    start_date=None,\n",
    "    end_date=None,\n",
    "    window=250,\n",
    "    simulations=10000,\n",
    "    confidence=0.99\n",
    "\n",
    "):\n",
    "    # Step 0: Preprocess\n",
    "    factor_returns = factor_returns.copy()\n",
    "    factor_returns.index = pd.to_datetime(factor_returns.index)\n",
    "    all_dates = factor_returns.index\n",
    "\n",
    "    # Step 1: Validate beta\n",
    "    if not isinstance(beta, pd.Series):\n",
    "        raise ValueError(\"beta must be a pandas Series with index = factor tickers.\")\n",
    "\n",
    "    factor_names = list(beta.index)\n",
    "\n",
    "    # Step 2: Check all beta factors exist in factor_returns\n",
    "    missing_factors = [f for f in factor_names if f not in factor_returns.columns]\n",
    "    if missing_factors:\n",
    "        raise ValueError(f\"Missing factors in factor_returns: {missing_factors}\")\n",
    "\n",
    "    # Step 3: Subset and reorder factor_returns\n",
    "    factor_returns = factor_returns[factor_names]\n",
    "    beta_vector = beta.values.reshape(1, -1)  # shape: (1, F)\n",
    "\n",
    "    # Step 4: Date handling\n",
    "    if len(factor_returns) <= window:\n",
    "        raise ValueError(f\"Factor returns too short: need at least {window + 1} rows.\")\n",
    "\n",
    "    if start_date is None:\n",
    "        start_loc = window\n",
    "        start_date = all_dates[start_loc]\n",
    "    else:\n",
    "        start_date = pd.to_datetime(start_date)\n",
    "        if start_date not in all_dates:\n",
    "            raise ValueError(f\"start_date {start_date.date()} not in factor_returns.\")\n",
    "        start_loc = all_dates.get_loc(start_date)\n",
    "        if start_loc < window:\n",
    "            raise ValueError(f\"start_date too early — need {window} days of history.\")\n",
    "\n",
    "    if end_date is None:\n",
    "        end_date = all_dates[-1]\n",
    "    else:\n",
    "        end_date = pd.to_datetime(end_date)\n",
    "        if end_date not in all_dates:\n",
    "            raise ValueError(f\"end_date {end_date.date()} not in factor_returns.\")\n",
    "    end_loc = all_dates.get_loc(end_date)\n",
    "\n",
    "    # Step 5: Rolling simulation\n",
    "    rolling_VaR = []\n",
    "\n",
    "    for i in range(start_loc, end_loc + 1):\n",
    "        window_factors = factor_returns.iloc[i - window:i]\n",
    "        cov_matrix = np.cov(window_factors.T)\n",
    "\n",
    "        sim_factors = np.random.multivariate_normal(\n",
    "            mean=np.zeros(len(beta)),\n",
    "            cov=cov_matrix,\n",
    "            size=simulations\n",
    "        )  # shape: (simulations x F)\n",
    "\n",
    "        sim_portfolio = sim_factors @ beta_vector.T  # shape: (simulations x 1)\n",
    "        var_i = np.percentile(sim_portfolio, (1 - confidence) * 100)\n",
    "\n",
    "        rolling_VaR.append((all_dates[i], var_i))\n",
    "\n",
    "    return pd.Series([v[1] for v in rolling_VaR], index=[v[0] for v in rolling_VaR])"
   ]
  },
  {
   "cell_type": "code",
   "execution_count": 77,
   "id": "5256ad65-b46a-4f58-b129-daef82f7298d",
   "metadata": {},
   "outputs": [],
   "source": [
    "##Total means to add all the data from start to end, for rolling backest\n",
    "##All means to add all the tickers in risk factor simulation\n",
    "\n",
    "Price_Total_All = get_price_data(All_Tickers, start, end)\n",
    "Price_Total_All = get_price_data(All_Tickers, start, end)\n",
    "Log_Total_R = compute_log_returns(Price_Total_All)"
   ]
  },
  {
   "cell_type": "code",
   "execution_count": 81,
   "id": "fef29f53-e258-457b-953f-45121d462f5a",
   "metadata": {},
   "outputs": [],
   "source": [
    "rolling_var = generate_rolling_VaR_series(Log_Total_R, PortfolioBeta,test_start, test_end)"
   ]
  },
  {
   "cell_type": "code",
   "execution_count": 87,
   "id": "76d55349-a21e-4568-8232-503a30cf0285",
   "metadata": {},
   "outputs": [
    {
     "data": {
      "image/png": "[encoded data removed]",
      "text/plain": [
       "<Figure size 1200x500 with 1 Axes>"
      ]
     },
     "metadata": {},
     "output_type": "display_data"
    }
   ],
   "source": [
    "# Ensure rolling VaR and portfolio return are aligned on dates\n",
    "aligned_index = rolling_var.index.intersection(test_P_return.index)\n",
    "\n",
    "rolling_var = rolling_var.loc[aligned_index]\n",
    "test_P_return_aligned = test_P_return.loc[aligned_index]\n",
    "\n",
    "x = test_P_return.loc[rolling_var.index].index\n",
    "y = test_P_return.loc[rolling_var.index].values.astype(\"float64\")\n",
    "y2 = rolling_var.values\n",
    "mask = y < y2\n",
    "\n",
    "\n",
    "result = backtest_VaR(test_P_return.loc[rolling_var.index], rolling_var)\n",
    "\n",
    "\n",
    "plt.figure(figsize=(12, 5))\n",
    "plt.plot(x, y, label=\"Actual Portfolio Return\", color=\"blue\", linewidth=1)\n",
    "plt.plot(x, y2, color=\"red\", linestyle=\"--\", linewidth=2, label=\"Rolling 99% VaR\")\n",
    "plt.fill_between(x, y, y2, where=mask, color='red', alpha=0.3, label=\"Violations\")\n",
    "\n",
    "plt.title(f\"Backtesting: Actual Returns vs Rolling 99% VaR\\n\"\n",
    "          f\"Violations = {result['violations']} | \"\n",
    "          f\"Rate = {result['rate']:.2%} | Zone = {result['zone']}\")\n",
    "plt.xlabel(\"Date\")\n",
    "plt.ylabel(\"Daily Return\")\n",
    "plt.legend()\n",
    "plt.grid(True)\n",
    "plt.tight_layout()\n",
    "plt.show()"
   ]
  },
  {
   "cell_type": "code",
   "execution_count": 88,
   "id": "ab9865cc-b3e2-4427-b7c8-2bb0d64ca3a5",
   "metadata": {},
   "outputs": [
    {
     "data": {
      "text/markdown": [
       "\n",
       "### Output: Rolling VaR Backtest Result Summary\n",
       "\n",
       "- Total backtesting days: **249**\n",
       "- VaR type: **Rolling 99% Monte Carlo VaR**\n",
       "- Violations: **8**  \n",
       "- Violation rate: **3.21%**\n",
       "\n",
       "**Basel zone**: `Yellow`  \n",
       "→ Based on the number of violations over the test period, this portfolio's risk model falls in the **Yellow zone** under the Basel traffic light framework.\n",
       "\n",
       "The rolling VaR approach dynamically reflects changing market conditions, and this backtest provides a regulatory-style validation of its performance using historical return alignment. The violation rate is evaluated against Basel III thresholds:\n",
       "- **Green** (≤4 violations): model accepted\n",
       "- **Yellow** (5–9): model requires closer monitoring\n",
       "- **Red** (≥10): model may be underestimating risk\n"
      ],
      "text/plain": [
       "<IPython.core.display.Markdown object>"
      ]
     },
     "execution_count": 88,
     "metadata": {},
     "output_type": "execute_result"
    }
   ],
   "source": [
    "Markdown(f\"\"\"\n",
    "### Output: Rolling VaR Backtest Result Summary\n",
    "\n",
    "- Total backtesting days: **{result['total']}**\n",
    "- VaR type: **Rolling 99% Monte Carlo VaR**\n",
    "- Violations: **{result['violations']}**  \n",
    "- Violation rate: **{result['rate']:.2%}**\n",
    "\n",
    "**Basel zone**: `{result['zone']}`  \n",
    "→ Based on the number of violations over the test period, this portfolio's risk model falls in the **{result['zone']} zone** under the Basel traffic light framework.\n",
    "\n",
    "The rolling VaR approach dynamically reflects changing market conditions, and this backtest provides a regulatory-style validation of its performance using historical return alignment. The violation rate is evaluated against Basel III thresholds:\n",
    "- **Green** (≤4 violations): model accepted\n",
    "- **Yellow** (5–9): model requires closer monitoring\n",
    "- **Red** (≥10): model may be underestimating risk\n",
    "\"\"\")"
   ]
  },
  {
   "cell_type": "code",
   "execution_count": null,
   "id": "91c6b2e7-2662-4c39-87bc-2202e600abe7",
   "metadata": {},
   "outputs": [],
   "source": []
  }
 ],
 "metadata": {
  "kernelspec": {
   "display_name": "Python [conda env:base] *",
   "language": "python",
   "name": "conda-base-py"
  },
  "language_info": {
   "codemirror_mode": {
    "name": "ipython",
    "version": 3
   },
   "file_extension": ".py",
   "mimetype": "text/x-python",
   "name": "python",
   "nbconvert_exporter": "python",
   "pygments_lexer": "ipython3",
   "version": "3.12.7"
  }
 },
 "nbformat": 4,
 "nbformat_minor": 5
}
