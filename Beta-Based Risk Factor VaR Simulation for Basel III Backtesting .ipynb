{
 "cells": [
  {
   "cell_type": "markdown",
   "id": "583b3994",
   "metadata": {},
   "source": [
    "### CAPM-Based Interpretation of Risk Factors\n",
    "### 1. Introduction\n",
    "\n",
    "This simulation is a multi-factor modeling framework inspired by the Capital Asset Pricing Model (CAPM).\n",
    "\n",
    "Reference:\n",
    "- John C. Hull, *Risk Management and Financial Institutions*, 5th Edition, Wiley.\n",
    "\n",
    "While traditional CAPM considers market beta as the one driver of return, this approach extends the logic to include more factors such as:\n",
    "- Equity market index (e.g. SPY)\n",
    "- Sector index (e.g. XLK for technology exposure)\n",
    "- Interest rate proxy (e.g. TLT)\n",
    "\n",
    "Portfolio sensitivity (beta) to these risk factors is estimated using historical return data via linear regression. These beta coefficients are then applied to simulated risk factor returns to generate portfolio-level return paths for Monte Carlo VaR estimation.\n"
   ]
  },
  {
   "cell_type": "markdown",
   "id": "293e714c",
   "metadata": {},
   "source": [
    "## 1.1 Rationale for Risk Factors\n",
    "\n",
    "The following risk factors are selected based on their financial relevance to a technology-heavy portfolio and are incorporated into the modeling framework:\n",
    "\n",
    "- **Market (`SPY`)**: Represents the overall U.S. equity market as general equity market movements. It is also widely recognized as a benchmark for passive investment strategies.\n",
    "\n",
    "- **Tech (`XLK`)**: This ETF represents the technology sector and is chosen because this portfolio is tech-centric composition. It can be replaced by `XLF` or another sector ETF if the portfolio focus shifts.\n",
    "\n",
    "- **IR (`TLT`)**: A long-duration Treasury bond ETF used as an interest rate factor. It is included because tech stocks are typically more affected by long-term rate movements.\n",
    "\n",
    "- **Mtum (`MTUM`)**: An ETF tracking stocks with strong recent performance, following a momentum-based strategy.\n",
    "\n",
    "- **Vol (`^VIX`)**: This index is for market volatility and can explain how asset returns react to unexpected situations or market stress.\n",
    "\n",
    "- **Value (`VLUE`)**: An ETF that focuses on stocks with relatively low valuation metrics, often measured by metrics like P/E ratio.\n",
    "\n",
    "- **Growth (`IWF`)**: An ETF that includes U.S. stocks with high revenue or earnings growth. It often overlaps with tech stocks and is used to reflect growth-style exposure in the portfolio.\n",
    "\n",
    "Note: Growth and value factors may be highly correlated due to their construction methodology. While both are included to reflect style exposures relevant to tech-driven portfolios, the risk of multicollinearity is acknowledged. Correlation and VIF check will be performed later."
   ]
  },
  {
   "cell_type": "markdown",
   "id": "59478c22",
   "metadata": {},
   "source": [
    "## 2. Factor Modeling and Simulation \n",
    "\n",
    "This section presents a two-step framework for modeling portfolio risk using a multi-factor extension of the Capital Asset Pricing Model (CAPM). \n",
    "\n",
    "Step1: the portfolio return is regressed on market risk factors using linear regression to estimate factor sensitivities (betas). This approach captures how the portfolio responds to systematic drivers such as market, sector, interest rates, and style exposures.\n",
    "\n",
    "Step2: Monte Carlo simulation is applied to the selected risk factors. Correlated factor returns are generated based on a covariance matrix estimated from historical data. These simulated returns, combined with the estimated betas, are used to construct portfolio return distributions and compute Value-at-Risk (VaR).\n",
    "\n",
    "### 2.1 Factor Regression and Selection\n",
    "\n",
    "To quantify the portfolio’s exposure to systematic risk factors, historical portfolio returns are regressed on the selected factor returns using ordinary least squares (OLS) regression. The initial model includes all factors, and the resulting R² of approximately 0.90 indicates strong explanatory power.\n",
    "\n",
    "To improve robustness and mitigate potential multicollinearity, the model is refined as follows:\n",
    "\n",
    "- Factors with statistically insignificant coefficients (high p-values) are removed.\n",
    "- Variance Inflation Factor (VIF) is calculated to test multicollinearity. \n",
    "\n",
    "In practice, some degree of multicollinearity is often tolerated to preserve economic interpretability, which means factors with high VIF values do not necessarily need to be excluded. However, in this simulation, those factors were removed to simplify the model and ensure statistical clarity, especially since the remaining factor set still provided strong explanatory power, with a high R².\n",
    "\n",
    "A second linear regression is performed on the reduced set of factors that passed both the p-value threshold for statistical significance and the VIF threshold for multicollinearity. The updated model maintains strong explanatory power, with an R² comparable to the initial full-factor model. The beta coefficients estimated from this regression are used as inputs in the Monte Carlo simulation."
   ]
  },
  {
   "cell_type": "markdown",
   "id": "4b40f0d3",
   "metadata": {},
   "source": [
    "### 2.2 Simulating Correlated Risk Factor Returns\n",
    "\n",
    "A multivariate normal distribution is employed for Monte Carlo simulation. The mean vector and covariance matrix are estimated from historical returns of the selected risk factors to ensure that the simulated returns reflect their historical co-movements.\n",
    "\n",
    "The simulated factor returns will later be combined with the portfolio’s beta exposures for Value-at-Risk estimation."
   ]
  },
  {
   "cell_type": "markdown",
   "id": "3cedef1d",
   "metadata": {},
   "source": [
    "### 2.3 Constructing Simulated Portfolio Returns\n",
    "\n",
    "Once risk factor return paths have been generated through Monte Carlo simulation, they are transformed into portfolio returns using the beta exposures estimated in Section 2.1.\n",
    "\n",
    "Each simulated portfolio return is calculated as a linear combination of the simulated factor returns, weighted by the portfolio’s beta to each factor:\n",
    "\n",
    "    Simulated Portfolio Return = β₁ × Factor₁ + β₂ × Factor₂ + ... + β_k × Factor_k\n",
    "\n",
    "Where:\n",
    "- β represents the portfolio's sensitivity (beta) to each factor\n",
    "- Factor_i is the simulated return of the i-th risk factor for that scenario\n",
    "\n",
    "This process generates a full distribution of 1-day simulated portfolio returns, which incorporates both the correlation structure of the risk factors and the portfolio’s exposures.\n",
    "\n",
    "This return distribution serves as the basis for calculating the 99% Value-at-Risk in the next step."
   ]
  },
  {
   "cell_type": "markdown",
   "id": "786eedef",
   "metadata": {},
   "source": [
    "## 3. Monte Carlo VaR Estimation\n",
    "\n",
    "The 1-day 99% Value-at-Risk (VaR) is estimated as the 1st percentile of the simulated portfolio return distribution generated in Section 2.3.\n",
    "\n",
    "This approach follows the standard Monte Carlo VaR methodology widely recognized in both regulatory frameworks and industry practice."
   ]
  },
  {
   "cell_type": "markdown",
   "id": "de20dbc4",
   "metadata": {},
   "source": [
    "## 4. Backtesting and Basel III Evaluation\n",
    "\n",
    "To evaluate the accuracy of the Monte Carlo VaR model, backtesting is performed by comparing the predicted 1-day 99% VaR from Monte Carlo simulation against actual portfolio returns over a 1-year test period(approximately 250 trading days), consistent with the Basel III framework.\n",
    "\n",
    "Each instance in which the actual return falls below the estimated VaR is recorded as a breach, or exception. The total number of exceptions is counted to assess model performance according to the Basel III framework.\n",
    "\n",
    "Under the Basel guidelines:\n",
    "\n",
    "- **Green Zone**: 0 to 4 exceptions (model accepted)\n",
    "- **Yellow Zone**: 5 to 9 exceptions (model conditionally accepted, increased multiplier)\n",
    "- **Red Zone**: 10 or more exceptions (model rejected or subjected to supervisory review)\n",
    "\n",
    "This traffic light classification provides a standardized regulatory interpretation of how effectively the model captures downside risk. The number of  observed exceptions is compared to the threshold to determine the appropriate regulatory zone.\n",
    "\n",
    "📖 Reference: [BCBS Traffic Light Backtesting Framework](https://www.bis.org/publ/bcbs22.htm)"
   ]
  },
  {
   "cell_type": "markdown",
   "id": "bd86e99f",
   "metadata": {},
   "source": [
    "### Appendix: Python Coding "
   ]
  },
  {
   "cell_type": "code",
   "execution_count": 1,
   "id": "6b32ec5b",
   "metadata": {},
   "outputs": [],
   "source": [
    "import json\n",
    "\n",
    "config = {\n",
    "    \"tickers\": ['AAPL', 'MSFT', 'NVDA', 'GOOG', 'AMD'],\n",
    "    \"weights\": [0.3, 0.25, 0.2, 0.15, 0.1],\n",
    "    \"start\": \"2023-01-01\",\n",
    "    \"end\": \"2025-12-31\",\n",
    "    \"train_start\": \"2023-01-01\",\n",
    "    \"train_end\": \"2024-04-30\",\n",
    "    \"test_start\": \"2024-05-01\",\n",
    "    \"test_end\": \"2025-05-01\",\n",
    "    \"confidence\":0.99\n",
    "}\n",
    "\n",
    "with open(\"portfolio_config.json\", \"w\") as f:\n",
    "    json.dump(config, f, indent=9)"
   ]
  },
  {
   "cell_type": "code",
   "execution_count": 2,
   "id": "7fdaa145",
   "metadata": {},
   "outputs": [],
   "source": [
    "import numpy as np\n",
    "import pandas as pd\n",
    "import matplotlib.pyplot as plt\n",
    "import yfinance as yf\n",
    "from scipy.stats import norm\n",
    "from IPython.display import Markdown\n",
    "import statsmodels.api as sm\n",
    "from statsmodels.stats.outliers_influence import variance_inflation_factor"
   ]
  },
  {
   "cell_type": "code",
   "execution_count": 3,
   "id": "486f5a98",
   "metadata": {},
   "outputs": [],
   "source": [
    "\n",
    "def get_price_data(tickers, start_date=\"2020-01-01\", end_date=\"2024-12-31\"):\n",
    "    data = yf.download(tickers, start=start_date, end=end_date, auto_adjust = True, progress=False)['Close']\n",
    "    return data"
   ]
  },
  {
   "cell_type": "code",
   "execution_count": 4,
   "id": "f6b1fa6c",
   "metadata": {},
   "outputs": [
    {
     "data": {
      "text/html": [
       "<div>\n",
       "<style scoped>\n",
       "    .dataframe tbody tr th:only-of-type {\n",
       "        vertical-align: middle;\n",
       "    }\n",
       "\n",
       "    .dataframe tbody tr th {\n",
       "        vertical-align: top;\n",
       "    }\n",
       "\n",
       "    .dataframe thead th {\n",
       "        text-align: right;\n",
       "    }\n",
       "</style>\n",
       "<table border=\"1\" class=\"dataframe\">\n",
       "  <thead>\n",
       "    <tr style=\"text-align: right;\">\n",
       "      <th>Ticker</th>\n",
       "      <th>AAPL</th>\n",
       "      <th>AMD</th>\n",
       "      <th>GOOG</th>\n",
       "      <th>MSFT</th>\n",
       "      <th>NVDA</th>\n",
       "    </tr>\n",
       "    <tr>\n",
       "      <th>Date</th>\n",
       "      <th></th>\n",
       "      <th></th>\n",
       "      <th></th>\n",
       "      <th></th>\n",
       "      <th></th>\n",
       "    </tr>\n",
       "  </thead>\n",
       "  <tbody>\n",
       "    <tr>\n",
       "      <th>2023-01-03</th>\n",
       "      <td>123.470596</td>\n",
       "      <td>64.019997</td>\n",
       "      <td>89.277138</td>\n",
       "      <td>235.240036</td>\n",
       "      <td>14.303277</td>\n",
       "    </tr>\n",
       "    <tr>\n",
       "      <th>2023-01-04</th>\n",
       "      <td>124.744125</td>\n",
       "      <td>64.660004</td>\n",
       "      <td>88.291809</td>\n",
       "      <td>224.949890</td>\n",
       "      <td>14.736924</td>\n",
       "    </tr>\n",
       "    <tr>\n",
       "      <th>2023-01-05</th>\n",
       "      <td>123.421257</td>\n",
       "      <td>62.330002</td>\n",
       "      <td>86.360947</td>\n",
       "      <td>218.282883</td>\n",
       "      <td>14.253322</td>\n",
       "    </tr>\n",
       "    <tr>\n",
       "      <th>2023-01-06</th>\n",
       "      <td>127.962425</td>\n",
       "      <td>63.959999</td>\n",
       "      <td>87.744400</td>\n",
       "      <td>220.855392</td>\n",
       "      <td>14.846834</td>\n",
       "    </tr>\n",
       "    <tr>\n",
       "      <th>2023-01-09</th>\n",
       "      <td>128.485657</td>\n",
       "      <td>67.239998</td>\n",
       "      <td>88.381386</td>\n",
       "      <td>223.005737</td>\n",
       "      <td>15.615206</td>\n",
       "    </tr>\n",
       "  </tbody>\n",
       "</table>\n",
       "</div>"
      ],
      "text/plain": [
       "Ticker            AAPL        AMD       GOOG        MSFT       NVDA\n",
       "Date                                                               \n",
       "2023-01-03  123.470596  64.019997  89.277138  235.240036  14.303277\n",
       "2023-01-04  124.744125  64.660004  88.291809  224.949890  14.736924\n",
       "2023-01-05  123.421257  62.330002  86.360947  218.282883  14.253322\n",
       "2023-01-06  127.962425  63.959999  87.744400  220.855392  14.846834\n",
       "2023-01-09  128.485657  67.239998  88.381386  223.005737  15.615206"
      ]
     },
     "execution_count": 4,
     "metadata": {},
     "output_type": "execute_result"
    }
   ],
   "source": [
    "with open(\"portfolio_config.json\", \"r\") as f:\n",
    "    config = json.load(f)\n",
    "\n",
    "tickers = config[\"tickers\"]\n",
    "weights = config[\"weights\"]\n",
    "start = config[\"start\"]\n",
    "end = config[\"end\"]\n",
    "train_start = config[\"train_start\"]\n",
    "train_end = config[\"train_end\"]\n",
    "test_start = config[\"test_start\"]\n",
    "test_end = config[\"test_end\"]\n",
    "confidence = config[\"confidence\"]\n",
    "\n",
    "Port1_Ticker_P = get_price_data(tickers, train_start, train_end)\n",
    "Port1_Ticker_P.head()"
   ]
  },
  {
   "cell_type": "code",
   "execution_count": 5,
   "id": "4ddb6de1",
   "metadata": {},
   "outputs": [],
   "source": [
    "risk_factor_proxies = {\n",
    "    'Market': 'SPY',     # SP500\n",
    "    'Tech': 'XLK',       # Tech sector risk\n",
    "    'IR': 'TLT',         # Interest rate sensitivity\n",
    "    'Mtum': 'MTUM',      # Momentum factor\n",
    "    'Vol': '^VIX',       # Volatility (non-tradable index)\n",
    "    'Value': 'VLUE',     # Value-style equities\n",
    "    'Growth': 'IWF'      # Growth-style equities\n",
    "}"
   ]
  },
  {
   "cell_type": "code",
   "execution_count": 6,
   "id": "116235d9",
   "metadata": {},
   "outputs": [],
   "source": [
    "Factor_Tickers = list(risk_factor_proxies.values())\n",
    "##tickers is the portfolio tickers, which is defined from the config and used for part 1 (portfolio1)\n",
    "All_Tickers = tickers +Factor_Tickers"
   ]
  },
  {
   "cell_type": "code",
   "execution_count": 7,
   "id": "4ecdb8dc",
   "metadata": {},
   "outputs": [],
   "source": [
    "def compute_log_returns(price_df):\n",
    "    log_returns = np.log(price_df / price_df.shift(1))\n",
    "    return log_returns.dropna()"
   ]
  },
  {
   "cell_type": "code",
   "execution_count": 8,
   "id": "ca368586",
   "metadata": {},
   "outputs": [],
   "source": [
    "Price_All = get_price_data(All_Tickers, train_start, train_end)\n",
    "\n",
    "Price_All = get_price_data(All_Tickers, train_start, train_end)\n",
    "Log_All_R = compute_log_returns(Price_All)"
   ]
  },
  {
   "cell_type": "code",
   "execution_count": 9,
   "id": "1f02965d",
   "metadata": {},
   "outputs": [],
   "source": [
    "##Linear Regression\n",
    "Portfolio_R = Log_All_R[tickers]  \n",
    "PortfolioReturn = Portfolio_R @ weights #y\n",
    "\n",
    "Factor_R = Log_All_R[Factor_Tickers]  #x "
   ]
  },
  {
   "cell_type": "code",
   "execution_count": 10,
   "id": "c1b1bbda",
   "metadata": {},
   "outputs": [],
   "source": [
    "def RunOLSRegression(PortfolioReturn: pd.Series,\n",
    "                     FactorReturns: pd.DataFrame) -> pd.DataFrame:\n",
    "\n",
    "    X = sm.add_constant(FactorReturns)\n",
    "    y = PortfolioReturn\n",
    "\n",
    "    model = sm.OLS(y, X).fit()\n",
    "\n",
    "    result_df = pd.DataFrame({\n",
    "        'Factor': model.params.index,\n",
    "        'Beta': model.params.values,\n",
    "        'T-Stat': model.tvalues.values,\n",
    "        'P-Value': model.pvalues.values\n",
    "    })\n",
    "\n",
    "    result_df = result_df[result_df['Factor'] != 'const']\n",
    "    result_df['P-Value'] = result_df['P-Value'].round(4)\n",
    "    result_df = result_df[['Factor', 'Beta', 'T-Stat', 'P-Value']]\n",
    "\n",
    "    return result_df"
   ]
  },
  {
   "cell_type": "code",
   "execution_count": 11,
   "id": "e666a30d",
   "metadata": {},
   "outputs": [],
   "source": [
    "def GetPortR_Square(PortfolioReturn: pd.DataFrame,\n",
    "                    FactorReturns: pd.DataFrame) -> tuple[float, float]:\n",
    "\n",
    "    X = sm.add_constant(FactorReturns)\n",
    "    y = PortfolioReturn\n",
    "    Model = sm.OLS(y, X).fit()\n",
    "    return Model.rsquared.round(2), Model.rsquared_adj.round(2)"
   ]
  },
  {
   "cell_type": "code",
   "execution_count": 12,
   "id": "5ec7e573",
   "metadata": {},
   "outputs": [
    {
     "data": {
      "text/plain": [
       "(0.92, 0.91)"
      ]
     },
     "execution_count": 12,
     "metadata": {},
     "output_type": "execute_result"
    }
   ],
   "source": [
    "GetPortR_Square(PortfolioReturn, Factor_R)"
   ]
  },
  {
   "cell_type": "code",
   "execution_count": 13,
   "id": "12f72457",
   "metadata": {},
   "outputs": [],
   "source": [
    "regression_result = RunOLSRegression(PortfolioReturn, Factor_R)"
   ]
  },
  {
   "cell_type": "code",
   "execution_count": 14,
   "id": "28b3305f",
   "metadata": {},
   "outputs": [
    {
     "data": {
      "text/html": [
       "<div>\n",
       "<style scoped>\n",
       "    .dataframe tbody tr th:only-of-type {\n",
       "        vertical-align: middle;\n",
       "    }\n",
       "\n",
       "    .dataframe tbody tr th {\n",
       "        vertical-align: top;\n",
       "    }\n",
       "\n",
       "    .dataframe thead th {\n",
       "        text-align: right;\n",
       "    }\n",
       "</style>\n",
       "<table border=\"1\" class=\"dataframe\">\n",
       "  <thead>\n",
       "    <tr style=\"text-align: right;\">\n",
       "      <th></th>\n",
       "      <th>Factor</th>\n",
       "      <th>Beta</th>\n",
       "      <th>T-Stat</th>\n",
       "      <th>P-Value</th>\n",
       "    </tr>\n",
       "  </thead>\n",
       "  <tbody>\n",
       "    <tr>\n",
       "      <th>1</th>\n",
       "      <td>SPY</td>\n",
       "      <td>-0.503135</td>\n",
       "      <td>-2.258353</td>\n",
       "      <td>0.0246</td>\n",
       "    </tr>\n",
       "    <tr>\n",
       "      <th>2</th>\n",
       "      <td>XLK</td>\n",
       "      <td>0.808601</td>\n",
       "      <td>11.249052</td>\n",
       "      <td>0.0000</td>\n",
       "    </tr>\n",
       "    <tr>\n",
       "      <th>3</th>\n",
       "      <td>TLT</td>\n",
       "      <td>-0.020340</td>\n",
       "      <td>-0.895380</td>\n",
       "      <td>0.3713</td>\n",
       "    </tr>\n",
       "    <tr>\n",
       "      <th>4</th>\n",
       "      <td>MTUM</td>\n",
       "      <td>-0.198960</td>\n",
       "      <td>-4.705969</td>\n",
       "      <td>0.0000</td>\n",
       "    </tr>\n",
       "    <tr>\n",
       "      <th>5</th>\n",
       "      <td>^VIX</td>\n",
       "      <td>-0.007697</td>\n",
       "      <td>-1.141535</td>\n",
       "      <td>0.2545</td>\n",
       "    </tr>\n",
       "    <tr>\n",
       "      <th>6</th>\n",
       "      <td>VLUE</td>\n",
       "      <td>-0.231632</td>\n",
       "      <td>-2.960483</td>\n",
       "      <td>0.0033</td>\n",
       "    </tr>\n",
       "    <tr>\n",
       "      <th>7</th>\n",
       "      <td>IWF</td>\n",
       "      <td>1.105319</td>\n",
       "      <td>6.485180</td>\n",
       "      <td>0.0000</td>\n",
       "    </tr>\n",
       "  </tbody>\n",
       "</table>\n",
       "</div>"
      ],
      "text/plain": [
       "  Factor      Beta     T-Stat  P-Value\n",
       "1    SPY -0.503135  -2.258353   0.0246\n",
       "2    XLK  0.808601  11.249052   0.0000\n",
       "3    TLT -0.020340  -0.895380   0.3713\n",
       "4   MTUM -0.198960  -4.705969   0.0000\n",
       "5   ^VIX -0.007697  -1.141535   0.2545\n",
       "6   VLUE -0.231632  -2.960483   0.0033\n",
       "7    IWF  1.105319   6.485180   0.0000"
      ]
     },
     "execution_count": 14,
     "metadata": {},
     "output_type": "execute_result"
    }
   ],
   "source": [
    "regression_result "
   ]
  },
  {
   "cell_type": "code",
   "execution_count": 15,
   "id": "199d680e",
   "metadata": {},
   "outputs": [],
   "source": [
    "def CalculateVIF(FactorReturns: pd.DataFrame) -> pd.DataFrame:\n",
    "    \"\"\"\n",
    "    Calculate Variance Inflation Factor (VIF) for each factor.\n",
    "    \"\"\"\n",
    "    vif_data = pd.DataFrame()\n",
    "    vif_data[\"Factor\"] = FactorReturns.columns\n",
    "    vif_data[\"VIF\"] = [variance_inflation_factor(FactorReturns.values, i)\n",
    "                       for i in range(FactorReturns.shape[1])]\n",
    "    return vif_data"
   ]
  },
  {
   "cell_type": "code",
   "execution_count": 16,
   "id": "41917eff",
   "metadata": {},
   "outputs": [],
   "source": [
    "VIF_result = CalculateVIF(Factor_R)"
   ]
  },
  {
   "cell_type": "code",
   "execution_count": 17,
   "id": "aa38d282",
   "metadata": {},
   "outputs": [
    {
     "data": {
      "text/html": [
       "<div>\n",
       "<style scoped>\n",
       "    .dataframe tbody tr th:only-of-type {\n",
       "        vertical-align: middle;\n",
       "    }\n",
       "\n",
       "    .dataframe tbody tr th {\n",
       "        vertical-align: top;\n",
       "    }\n",
       "\n",
       "    .dataframe thead th {\n",
       "        text-align: right;\n",
       "    }\n",
       "</style>\n",
       "<table border=\"1\" class=\"dataframe\">\n",
       "  <thead>\n",
       "    <tr style=\"text-align: right;\">\n",
       "      <th></th>\n",
       "      <th>Factor</th>\n",
       "      <th>VIF</th>\n",
       "    </tr>\n",
       "  </thead>\n",
       "  <tbody>\n",
       "    <tr>\n",
       "      <th>0</th>\n",
       "      <td>SPY</td>\n",
       "      <td>54.166601</td>\n",
       "    </tr>\n",
       "    <tr>\n",
       "      <th>1</th>\n",
       "      <td>XLK</td>\n",
       "      <td>12.143214</td>\n",
       "    </tr>\n",
       "    <tr>\n",
       "      <th>2</th>\n",
       "      <td>TLT</td>\n",
       "      <td>1.046677</td>\n",
       "    </tr>\n",
       "    <tr>\n",
       "      <th>3</th>\n",
       "      <td>MTUM</td>\n",
       "      <td>2.783501</td>\n",
       "    </tr>\n",
       "    <tr>\n",
       "      <th>4</th>\n",
       "      <td>^VIX</td>\n",
       "      <td>2.200322</td>\n",
       "    </tr>\n",
       "    <tr>\n",
       "      <th>5</th>\n",
       "      <td>VLUE</td>\n",
       "      <td>8.193423</td>\n",
       "    </tr>\n",
       "    <tr>\n",
       "      <th>6</th>\n",
       "      <td>IWF</td>\n",
       "      <td>49.713392</td>\n",
       "    </tr>\n",
       "  </tbody>\n",
       "</table>\n",
       "</div>"
      ],
      "text/plain": [
       "  Factor        VIF\n",
       "0    SPY  54.166601\n",
       "1    XLK  12.143214\n",
       "2    TLT   1.046677\n",
       "3   MTUM   2.783501\n",
       "4   ^VIX   2.200322\n",
       "5   VLUE   8.193423\n",
       "6    IWF  49.713392"
      ]
     },
     "execution_count": 17,
     "metadata": {},
     "output_type": "execute_result"
    }
   ],
   "source": [
    "VIF_result"
   ]
  },
  {
   "cell_type": "code",
   "execution_count": 18,
   "id": "5962da08",
   "metadata": {},
   "outputs": [],
   "source": [
    "FactorR = Factor_R.drop(columns=[\"TLT\",\"IWF\",\"^VIX\",\"SPY\"]) \n"
   ]
  },
  {
   "cell_type": "code",
   "execution_count": 19,
   "id": "10cb8d6b",
   "metadata": {},
   "outputs": [
    {
     "data": {
      "text/plain": [
       "(0.89, 0.89)"
      ]
     },
     "execution_count": 19,
     "metadata": {},
     "output_type": "execute_result"
    }
   ],
   "source": [
    "GetPortR_Square(PortfolioReturn, FactorR)"
   ]
  },
  {
   "cell_type": "code",
   "execution_count": 20,
   "id": "925293b7",
   "metadata": {},
   "outputs": [],
   "source": [
    "regression_result = RunOLSRegression(PortfolioReturn, FactorR)"
   ]
  },
  {
   "cell_type": "code",
   "execution_count": 21,
   "id": "9ae56be0",
   "metadata": {},
   "outputs": [
    {
     "data": {
      "text/html": [
       "<div>\n",
       "<style scoped>\n",
       "    .dataframe tbody tr th:only-of-type {\n",
       "        vertical-align: middle;\n",
       "    }\n",
       "\n",
       "    .dataframe tbody tr th {\n",
       "        vertical-align: top;\n",
       "    }\n",
       "\n",
       "    .dataframe thead th {\n",
       "        text-align: right;\n",
       "    }\n",
       "</style>\n",
       "<table border=\"1\" class=\"dataframe\">\n",
       "  <thead>\n",
       "    <tr style=\"text-align: right;\">\n",
       "      <th></th>\n",
       "      <th>Factor</th>\n",
       "      <th>Beta</th>\n",
       "      <th>T-Stat</th>\n",
       "      <th>P-Value</th>\n",
       "    </tr>\n",
       "  </thead>\n",
       "  <tbody>\n",
       "    <tr>\n",
       "      <th>1</th>\n",
       "      <td>XLK</td>\n",
       "      <td>1.390298</td>\n",
       "      <td>40.554670</td>\n",
       "      <td>0.0000</td>\n",
       "    </tr>\n",
       "    <tr>\n",
       "      <th>2</th>\n",
       "      <td>MTUM</td>\n",
       "      <td>-0.083370</td>\n",
       "      <td>-1.987777</td>\n",
       "      <td>0.0477</td>\n",
       "    </tr>\n",
       "    <tr>\n",
       "      <th>3</th>\n",
       "      <td>VLUE</td>\n",
       "      <td>-0.305527</td>\n",
       "      <td>-7.512107</td>\n",
       "      <td>0.0000</td>\n",
       "    </tr>\n",
       "  </tbody>\n",
       "</table>\n",
       "</div>"
      ],
      "text/plain": [
       "  Factor      Beta     T-Stat  P-Value\n",
       "1    XLK  1.390298  40.554670   0.0000\n",
       "2   MTUM -0.083370  -1.987777   0.0477\n",
       "3   VLUE -0.305527  -7.512107   0.0000"
      ]
     },
     "execution_count": 21,
     "metadata": {},
     "output_type": "execute_result"
    }
   ],
   "source": [
    "regression_result "
   ]
  },
  {
   "cell_type": "code",
   "execution_count": 22,
   "id": "d6ca1d4d",
   "metadata": {},
   "outputs": [
    {
     "data": {
      "text/html": [
       "<div>\n",
       "<style scoped>\n",
       "    .dataframe tbody tr th:only-of-type {\n",
       "        vertical-align: middle;\n",
       "    }\n",
       "\n",
       "    .dataframe tbody tr th {\n",
       "        vertical-align: top;\n",
       "    }\n",
       "\n",
       "    .dataframe thead th {\n",
       "        text-align: right;\n",
       "    }\n",
       "</style>\n",
       "<table border=\"1\" class=\"dataframe\">\n",
       "  <thead>\n",
       "    <tr style=\"text-align: right;\">\n",
       "      <th>Ticker</th>\n",
       "      <th>XLK</th>\n",
       "      <th>MTUM</th>\n",
       "      <th>VLUE</th>\n",
       "    </tr>\n",
       "    <tr>\n",
       "      <th>Ticker</th>\n",
       "      <th></th>\n",
       "      <th></th>\n",
       "      <th></th>\n",
       "    </tr>\n",
       "  </thead>\n",
       "  <tbody>\n",
       "    <tr>\n",
       "      <th>XLK</th>\n",
       "      <td>1.000000</td>\n",
       "      <td>0.699361</td>\n",
       "      <td>0.608388</td>\n",
       "    </tr>\n",
       "    <tr>\n",
       "      <th>MTUM</th>\n",
       "      <td>0.699361</td>\n",
       "      <td>1.000000</td>\n",
       "      <td>0.610275</td>\n",
       "    </tr>\n",
       "    <tr>\n",
       "      <th>VLUE</th>\n",
       "      <td>0.608388</td>\n",
       "      <td>0.610275</td>\n",
       "      <td>1.000000</td>\n",
       "    </tr>\n",
       "  </tbody>\n",
       "</table>\n",
       "</div>"
      ],
      "text/plain": [
       "Ticker       XLK      MTUM      VLUE\n",
       "Ticker                              \n",
       "XLK     1.000000  0.699361  0.608388\n",
       "MTUM    0.699361  1.000000  0.610275\n",
       "VLUE    0.608388  0.610275  1.000000"
      ]
     },
     "execution_count": 22,
     "metadata": {},
     "output_type": "execute_result"
    }
   ],
   "source": [
    "FactorR.corr()"
   ]
  },
  {
   "cell_type": "code",
   "execution_count": 23,
   "id": "fd56b029",
   "metadata": {},
   "outputs": [
    {
     "data": {
      "text/html": [
       "<div>\n",
       "<style scoped>\n",
       "    .dataframe tbody tr th:only-of-type {\n",
       "        vertical-align: middle;\n",
       "    }\n",
       "\n",
       "    .dataframe tbody tr th {\n",
       "        vertical-align: top;\n",
       "    }\n",
       "\n",
       "    .dataframe thead th {\n",
       "        text-align: right;\n",
       "    }\n",
       "</style>\n",
       "<table border=\"1\" class=\"dataframe\">\n",
       "  <thead>\n",
       "    <tr style=\"text-align: right;\">\n",
       "      <th></th>\n",
       "      <th>Factor</th>\n",
       "      <th>VIF</th>\n",
       "    </tr>\n",
       "  </thead>\n",
       "  <tbody>\n",
       "    <tr>\n",
       "      <th>0</th>\n",
       "      <td>XLK</td>\n",
       "      <td>2.192072</td>\n",
       "    </tr>\n",
       "    <tr>\n",
       "      <th>1</th>\n",
       "      <td>MTUM</td>\n",
       "      <td>2.202151</td>\n",
       "    </tr>\n",
       "    <tr>\n",
       "      <th>2</th>\n",
       "      <td>VLUE</td>\n",
       "      <td>1.779852</td>\n",
       "    </tr>\n",
       "  </tbody>\n",
       "</table>\n",
       "</div>"
      ],
      "text/plain": [
       "  Factor       VIF\n",
       "0    XLK  2.192072\n",
       "1   MTUM  2.202151\n",
       "2   VLUE  1.779852"
      ]
     },
     "execution_count": 23,
     "metadata": {},
     "output_type": "execute_result"
    }
   ],
   "source": [
    "VIF_result = CalculateVIF(FactorR)\n",
    "VIF_result "
   ]
  },
  {
   "cell_type": "code",
   "execution_count": 24,
   "id": "435078e4",
   "metadata": {},
   "outputs": [
    {
     "data": {
      "text/html": [
       "<div>\n",
       "<style scoped>\n",
       "    .dataframe tbody tr th:only-of-type {\n",
       "        vertical-align: middle;\n",
       "    }\n",
       "\n",
       "    .dataframe tbody tr th {\n",
       "        vertical-align: top;\n",
       "    }\n",
       "\n",
       "    .dataframe thead th {\n",
       "        text-align: right;\n",
       "    }\n",
       "</style>\n",
       "<table border=\"1\" class=\"dataframe\">\n",
       "  <thead>\n",
       "    <tr style=\"text-align: right;\">\n",
       "      <th></th>\n",
       "      <th>Factor</th>\n",
       "      <th>Beta</th>\n",
       "      <th>T-Stat</th>\n",
       "      <th>P-Value</th>\n",
       "    </tr>\n",
       "  </thead>\n",
       "  <tbody>\n",
       "    <tr>\n",
       "      <th>1</th>\n",
       "      <td>XLK</td>\n",
       "      <td>1.390298</td>\n",
       "      <td>40.554670</td>\n",
       "      <td>0.0000</td>\n",
       "    </tr>\n",
       "    <tr>\n",
       "      <th>2</th>\n",
       "      <td>MTUM</td>\n",
       "      <td>-0.083370</td>\n",
       "      <td>-1.987777</td>\n",
       "      <td>0.0477</td>\n",
       "    </tr>\n",
       "    <tr>\n",
       "      <th>3</th>\n",
       "      <td>VLUE</td>\n",
       "      <td>-0.305527</td>\n",
       "      <td>-7.512107</td>\n",
       "      <td>0.0000</td>\n",
       "    </tr>\n",
       "  </tbody>\n",
       "</table>\n",
       "</div>"
      ],
      "text/plain": [
       "  Factor      Beta     T-Stat  P-Value\n",
       "1    XLK  1.390298  40.554670   0.0000\n",
       "2   MTUM -0.083370  -1.987777   0.0477\n",
       "3   VLUE -0.305527  -7.512107   0.0000"
      ]
     },
     "execution_count": 24,
     "metadata": {},
     "output_type": "execute_result"
    }
   ],
   "source": [
    "regression_result = RunOLSRegression(PortfolioReturn, FactorR)\n",
    "regression_result"
   ]
  },
  {
   "cell_type": "code",
   "execution_count": 25,
   "id": "17799acd",
   "metadata": {},
   "outputs": [],
   "source": [
    "def SimulateFactors(FactorReturns: pd.DataFrame, NSim: int = 10000):\n",
    "    \"\"\"\n",
    "    Simulate multivariate normal factor returns based on historical covariance and mean.\n",
    "    \"\"\"\n",
    "    assert isinstance(NSim, int), \"NSim must be an integer\"\n",
    "\n",
    "    FactorCov = FactorReturns.cov().values\n",
    "    FactorMean = FactorReturns.mean().values\n",
    "    Simulated = np.random.multivariate_normal(mean=FactorMean, cov=FactorCov, size=NSim)\n",
    "\n",
    "    return pd.DataFrame(Simulated, columns=FactorReturns.columns)"
   ]
  },
  {
   "cell_type": "code",
   "execution_count": 26,
   "id": "f1f4cb0e",
   "metadata": {},
   "outputs": [],
   "source": [
    "model = sm.OLS(PortfolioReturn, sm.add_constant(FactorR)).fit()\n",
    "PortfolioBeta = model.params.drop(\"const\")\n",
    "\n",
    "Simulated_Factor_DF = SimulateFactors(FactorR, 1000)[PortfolioBeta.index]\n",
    "SimulatedPortfolioReturn = Simulated_Factor_DF @ PortfolioBeta.values"
   ]
  },
  {
   "cell_type": "code",
   "execution_count": 27,
   "id": "b63ebed8",
   "metadata": {},
   "outputs": [
    {
     "data": {
      "text/html": [
       "<div>\n",
       "<style scoped>\n",
       "    .dataframe tbody tr th:only-of-type {\n",
       "        vertical-align: middle;\n",
       "    }\n",
       "\n",
       "    .dataframe tbody tr th {\n",
       "        vertical-align: top;\n",
       "    }\n",
       "\n",
       "    .dataframe thead th {\n",
       "        text-align: right;\n",
       "    }\n",
       "</style>\n",
       "<table border=\"1\" class=\"dataframe\">\n",
       "  <thead>\n",
       "    <tr style=\"text-align: right;\">\n",
       "      <th>Ticker</th>\n",
       "      <th>XLK</th>\n",
       "      <th>MTUM</th>\n",
       "      <th>VLUE</th>\n",
       "    </tr>\n",
       "  </thead>\n",
       "  <tbody>\n",
       "    <tr>\n",
       "      <th>0</th>\n",
       "      <td>-0.012563</td>\n",
       "      <td>-0.001478</td>\n",
       "      <td>0.001734</td>\n",
       "    </tr>\n",
       "    <tr>\n",
       "      <th>1</th>\n",
       "      <td>0.009045</td>\n",
       "      <td>0.008105</td>\n",
       "      <td>0.014333</td>\n",
       "    </tr>\n",
       "    <tr>\n",
       "      <th>2</th>\n",
       "      <td>0.016120</td>\n",
       "      <td>0.003774</td>\n",
       "      <td>-0.004484</td>\n",
       "    </tr>\n",
       "    <tr>\n",
       "      <th>3</th>\n",
       "      <td>-0.002723</td>\n",
       "      <td>0.004274</td>\n",
       "      <td>-0.003568</td>\n",
       "    </tr>\n",
       "    <tr>\n",
       "      <th>4</th>\n",
       "      <td>0.007313</td>\n",
       "      <td>-0.003794</td>\n",
       "      <td>-0.000228</td>\n",
       "    </tr>\n",
       "    <tr>\n",
       "      <th>...</th>\n",
       "      <td>...</td>\n",
       "      <td>...</td>\n",
       "      <td>...</td>\n",
       "    </tr>\n",
       "    <tr>\n",
       "      <th>995</th>\n",
       "      <td>-0.000794</td>\n",
       "      <td>-0.007955</td>\n",
       "      <td>-0.012083</td>\n",
       "    </tr>\n",
       "    <tr>\n",
       "      <th>996</th>\n",
       "      <td>0.003754</td>\n",
       "      <td>0.015607</td>\n",
       "      <td>0.005239</td>\n",
       "    </tr>\n",
       "    <tr>\n",
       "      <th>997</th>\n",
       "      <td>0.007227</td>\n",
       "      <td>0.008665</td>\n",
       "      <td>0.015041</td>\n",
       "    </tr>\n",
       "    <tr>\n",
       "      <th>998</th>\n",
       "      <td>-0.002416</td>\n",
       "      <td>0.019038</td>\n",
       "      <td>-0.000156</td>\n",
       "    </tr>\n",
       "    <tr>\n",
       "      <th>999</th>\n",
       "      <td>0.009121</td>\n",
       "      <td>0.003982</td>\n",
       "      <td>0.001690</td>\n",
       "    </tr>\n",
       "  </tbody>\n",
       "</table>\n",
       "<p>1000 rows × 3 columns</p>\n",
       "</div>"
      ],
      "text/plain": [
       "Ticker       XLK      MTUM      VLUE\n",
       "0      -0.012563 -0.001478  0.001734\n",
       "1       0.009045  0.008105  0.014333\n",
       "2       0.016120  0.003774 -0.004484\n",
       "3      -0.002723  0.004274 -0.003568\n",
       "4       0.007313 -0.003794 -0.000228\n",
       "..           ...       ...       ...\n",
       "995    -0.000794 -0.007955 -0.012083\n",
       "996     0.003754  0.015607  0.005239\n",
       "997     0.007227  0.008665  0.015041\n",
       "998    -0.002416  0.019038 -0.000156\n",
       "999     0.009121  0.003982  0.001690\n",
       "\n",
       "[1000 rows x 3 columns]"
      ]
     },
     "execution_count": 27,
     "metadata": {},
     "output_type": "execute_result"
    }
   ],
   "source": [
    "Simulated_Factor_DF"
   ]
  },
  {
   "cell_type": "code",
   "execution_count": 28,
   "id": "6df1f851",
   "metadata": {},
   "outputs": [
    {
     "data": {
      "text/plain": [
       "0     -0.017873\n",
       "1      0.007520\n",
       "2      0.023467\n",
       "3     -0.003053\n",
       "4      0.010553\n",
       "         ...   \n",
       "995    0.003251\n",
       "996    0.002318\n",
       "997    0.004730\n",
       "998   -0.004898\n",
       "999    0.011833\n",
       "Length: 1000, dtype: float64"
      ]
     },
     "execution_count": 28,
     "metadata": {},
     "output_type": "execute_result"
    }
   ],
   "source": [
    "SimulatedPortfolioReturn"
   ]
  },
  {
   "cell_type": "code",
   "execution_count": 29,
   "id": "8ae24b29",
   "metadata": {},
   "outputs": [
    {
     "name": "stdout",
     "output_type": "stream",
     "text": [
      "99% VaR: -3.16%\n"
     ]
    }
   ],
   "source": [
    "SimulatedPortfolioVaR = np.percentile(SimulatedPortfolioReturn, (1-confidence)*100)\n",
    "print(f\"{int(confidence*100)}% VaR: {SimulatedPortfolioVaR:.2%}\")"
   ]
  },
  {
   "cell_type": "code",
   "execution_count": 30,
   "id": "d5e210d0",
   "metadata": {},
   "outputs": [
    {
     "data": {
      "text/plain": [
       "0     -0.017873\n",
       "1      0.007520\n",
       "2      0.023467\n",
       "3     -0.003053\n",
       "4      0.010553\n",
       "         ...   \n",
       "995    0.003251\n",
       "996    0.002318\n",
       "997    0.004730\n",
       "998   -0.004898\n",
       "999    0.011833\n",
       "Length: 1000, dtype: float64"
      ]
     },
     "execution_count": 30,
     "metadata": {},
     "output_type": "execute_result"
    }
   ],
   "source": [
    "SimulatedPortfolioReturn"
   ]
  },
  {
   "cell_type": "code",
   "execution_count": 31,
   "id": "ce22c609",
   "metadata": {},
   "outputs": [
    {
     "data": {
      "text/html": [
       "<div>\n",
       "<style scoped>\n",
       "    .dataframe tbody tr th:only-of-type {\n",
       "        vertical-align: middle;\n",
       "    }\n",
       "\n",
       "    .dataframe tbody tr th {\n",
       "        vertical-align: top;\n",
       "    }\n",
       "\n",
       "    .dataframe thead th {\n",
       "        text-align: right;\n",
       "    }\n",
       "</style>\n",
       "<table border=\"1\" class=\"dataframe\">\n",
       "  <thead>\n",
       "    <tr style=\"text-align: right;\">\n",
       "      <th>Ticker</th>\n",
       "      <th>AAPL</th>\n",
       "      <th>AMD</th>\n",
       "      <th>GOOG</th>\n",
       "      <th>IWF</th>\n",
       "      <th>MSFT</th>\n",
       "      <th>MTUM</th>\n",
       "      <th>NVDA</th>\n",
       "      <th>SPY</th>\n",
       "      <th>TLT</th>\n",
       "      <th>VLUE</th>\n",
       "      <th>XLK</th>\n",
       "      <th>^VIX</th>\n",
       "    </tr>\n",
       "    <tr>\n",
       "      <th>Date</th>\n",
       "      <th></th>\n",
       "      <th></th>\n",
       "      <th></th>\n",
       "      <th></th>\n",
       "      <th></th>\n",
       "      <th></th>\n",
       "      <th></th>\n",
       "      <th></th>\n",
       "      <th></th>\n",
       "      <th></th>\n",
       "      <th></th>\n",
       "      <th></th>\n",
       "    </tr>\n",
       "  </thead>\n",
       "  <tbody>\n",
       "    <tr>\n",
       "      <th>2023-01-04</th>\n",
       "      <td>0.010262</td>\n",
       "      <td>0.009947</td>\n",
       "      <td>-0.011098</td>\n",
       "      <td>0.003521</td>\n",
       "      <td>-0.044729</td>\n",
       "      <td>-0.000906</td>\n",
       "      <td>0.029868</td>\n",
       "      <td>0.007690</td>\n",
       "      <td>0.013607</td>\n",
       "      <td>0.015567</td>\n",
       "      <td>0.002593</td>\n",
       "      <td>-0.039640</td>\n",
       "    </tr>\n",
       "    <tr>\n",
       "      <th>2023-01-05</th>\n",
       "      <td>-0.010661</td>\n",
       "      <td>-0.036700</td>\n",
       "      <td>-0.022112</td>\n",
       "      <td>-0.016301</td>\n",
       "      <td>-0.030086</td>\n",
       "      <td>-0.000698</td>\n",
       "      <td>-0.033366</td>\n",
       "      <td>-0.011479</td>\n",
       "      <td>0.004172</td>\n",
       "      <td>-0.005090</td>\n",
       "      <td>-0.019612</td>\n",
       "      <td>0.020239</td>\n",
       "    </tr>\n",
       "    <tr>\n",
       "      <th>2023-01-06</th>\n",
       "      <td>0.036133</td>\n",
       "      <td>0.025815</td>\n",
       "      <td>0.015892</td>\n",
       "      <td>0.023446</td>\n",
       "      <td>0.011716</td>\n",
       "      <td>0.016601</td>\n",
       "      <td>0.040797</td>\n",
       "      <td>0.022673</td>\n",
       "      <td>0.018229</td>\n",
       "      <td>0.025087</td>\n",
       "      <td>0.028874</td>\n",
       "      <td>-0.061042</td>\n",
       "    </tr>\n",
       "    <tr>\n",
       "      <th>2023-01-09</th>\n",
       "      <td>0.004081</td>\n",
       "      <td>0.050010</td>\n",
       "      <td>0.007233</td>\n",
       "      <td>0.005198</td>\n",
       "      <td>0.009689</td>\n",
       "      <td>-0.013468</td>\n",
       "      <td>0.050459</td>\n",
       "      <td>-0.000567</td>\n",
       "      <td>0.005310</td>\n",
       "      <td>-0.002544</td>\n",
       "      <td>0.011558</td>\n",
       "      <td>0.038984</td>\n",
       "    </tr>\n",
       "    <tr>\n",
       "      <th>2023-01-10</th>\n",
       "      <td>0.004446</td>\n",
       "      <td>0.011974</td>\n",
       "      <td>0.004943</td>\n",
       "      <td>0.007379</td>\n",
       "      <td>0.007588</td>\n",
       "      <td>0.005132</td>\n",
       "      <td>0.017821</td>\n",
       "      <td>0.006989</td>\n",
       "      <td>-0.016688</td>\n",
       "      <td>0.007086</td>\n",
       "      <td>0.006163</td>\n",
       "      <td>-0.065358</td>\n",
       "    </tr>\n",
       "    <tr>\n",
       "      <th>...</th>\n",
       "      <td>...</td>\n",
       "      <td>...</td>\n",
       "      <td>...</td>\n",
       "      <td>...</td>\n",
       "      <td>...</td>\n",
       "      <td>...</td>\n",
       "      <td>...</td>\n",
       "      <td>...</td>\n",
       "      <td>...</td>\n",
       "      <td>...</td>\n",
       "      <td>...</td>\n",
       "      <td>...</td>\n",
       "    </tr>\n",
       "    <tr>\n",
       "      <th>2024-04-23</th>\n",
       "      <td>0.006371</td>\n",
       "      <td>0.024128</td>\n",
       "      <td>0.012395</td>\n",
       "      <td>0.014705</td>\n",
       "      <td>0.016351</td>\n",
       "      <td>0.021221</td>\n",
       "      <td>0.035881</td>\n",
       "      <td>0.011797</td>\n",
       "      <td>0.000337</td>\n",
       "      <td>0.007911</td>\n",
       "      <td>0.014718</td>\n",
       "      <td>-0.076654</td>\n",
       "    </tr>\n",
       "    <tr>\n",
       "      <th>2024-04-24</th>\n",
       "      <td>0.012622</td>\n",
       "      <td>-0.003487</td>\n",
       "      <td>0.007352</td>\n",
       "      <td>0.000185</td>\n",
       "      <td>0.003649</td>\n",
       "      <td>-0.004590</td>\n",
       "      <td>-0.033883</td>\n",
       "      <td>-0.000475</td>\n",
       "      <td>-0.007101</td>\n",
       "      <td>0.003108</td>\n",
       "      <td>0.004555</td>\n",
       "      <td>0.017688</td>\n",
       "    </tr>\n",
       "    <tr>\n",
       "      <th>2024-04-25</th>\n",
       "      <td>0.005134</td>\n",
       "      <td>0.013224</td>\n",
       "      <td>-0.019747</td>\n",
       "      <td>-0.006314</td>\n",
       "      <td>-0.024800</td>\n",
       "      <td>-0.004611</td>\n",
       "      <td>0.036416</td>\n",
       "      <td>-0.003806</td>\n",
       "      <td>-0.007038</td>\n",
       "      <td>-0.006031</td>\n",
       "      <td>-0.002174</td>\n",
       "      <td>-0.038294</td>\n",
       "    </tr>\n",
       "    <tr>\n",
       "      <th>2024-04-26</th>\n",
       "      <td>-0.003479</td>\n",
       "      <td>0.023397</td>\n",
       "      <td>0.094994</td>\n",
       "      <td>0.018276</td>\n",
       "      <td>0.018079</td>\n",
       "      <td>0.012601</td>\n",
       "      <td>0.059924</td>\n",
       "      <td>0.009429</td>\n",
       "      <td>0.005227</td>\n",
       "      <td>-0.003225</td>\n",
       "      <td>0.011222</td>\n",
       "      <td>-0.022369</td>\n",
       "    </tr>\n",
       "    <tr>\n",
       "      <th>2024-04-29</th>\n",
       "      <td>0.024505</td>\n",
       "      <td>0.017633</td>\n",
       "      <td>-0.033904</td>\n",
       "      <td>0.001341</td>\n",
       "      <td>-0.010067</td>\n",
       "      <td>0.000334</td>\n",
       "      <td>0.000251</td>\n",
       "      <td>0.003535</td>\n",
       "      <td>0.008351</td>\n",
       "      <td>0.006244</td>\n",
       "      <td>0.004294</td>\n",
       "      <td>-0.024244</td>\n",
       "    </tr>\n",
       "  </tbody>\n",
       "</table>\n",
       "<p>331 rows × 12 columns</p>\n",
       "</div>"
      ],
      "text/plain": [
       "Ticker          AAPL       AMD      GOOG       IWF      MSFT      MTUM  \\\n",
       "Date                                                                     \n",
       "2023-01-04  0.010262  0.009947 -0.011098  0.003521 -0.044729 -0.000906   \n",
       "2023-01-05 -0.010661 -0.036700 -0.022112 -0.016301 -0.030086 -0.000698   \n",
       "2023-01-06  0.036133  0.025815  0.015892  0.023446  0.011716  0.016601   \n",
       "2023-01-09  0.004081  0.050010  0.007233  0.005198  0.009689 -0.013468   \n",
       "2023-01-10  0.004446  0.011974  0.004943  0.007379  0.007588  0.005132   \n",
       "...              ...       ...       ...       ...       ...       ...   \n",
       "2024-04-23  0.006371  0.024128  0.012395  0.014705  0.016351  0.021221   \n",
       "2024-04-24  0.012622 -0.003487  0.007352  0.000185  0.003649 -0.004590   \n",
       "2024-04-25  0.005134  0.013224 -0.019747 -0.006314 -0.024800 -0.004611   \n",
       "2024-04-26 -0.003479  0.023397  0.094994  0.018276  0.018079  0.012601   \n",
       "2024-04-29  0.024505  0.017633 -0.033904  0.001341 -0.010067  0.000334   \n",
       "\n",
       "Ticker          NVDA       SPY       TLT      VLUE       XLK      ^VIX  \n",
       "Date                                                                    \n",
       "2023-01-04  0.029868  0.007690  0.013607  0.015567  0.002593 -0.039640  \n",
       "2023-01-05 -0.033366 -0.011479  0.004172 -0.005090 -0.019612  0.020239  \n",
       "2023-01-06  0.040797  0.022673  0.018229  0.025087  0.028874 -0.061042  \n",
       "2023-01-09  0.050459 -0.000567  0.005310 -0.002544  0.011558  0.038984  \n",
       "2023-01-10  0.017821  0.006989 -0.016688  0.007086  0.006163 -0.065358  \n",
       "...              ...       ...       ...       ...       ...       ...  \n",
       "2024-04-23  0.035881  0.011797  0.000337  0.007911  0.014718 -0.076654  \n",
       "2024-04-24 -0.033883 -0.000475 -0.007101  0.003108  0.004555  0.017688  \n",
       "2024-04-25  0.036416 -0.003806 -0.007038 -0.006031 -0.002174 -0.038294  \n",
       "2024-04-26  0.059924  0.009429  0.005227 -0.003225  0.011222 -0.022369  \n",
       "2024-04-29  0.000251  0.003535  0.008351  0.006244  0.004294 -0.024244  \n",
       "\n",
       "[331 rows x 12 columns]"
      ]
     },
     "execution_count": 31,
     "metadata": {},
     "output_type": "execute_result"
    }
   ],
   "source": [
    "Log_All_R"
   ]
  },
  {
   "cell_type": "code",
   "execution_count": 32,
   "id": "1d709cc4",
   "metadata": {},
   "outputs": [],
   "source": [
    "test_start = config[\"test_start\"]\n",
    "test_end = config[\"test_end\"]\n",
    "\n",
    "test_prices = get_price_data(tickers, test_start, test_end)\n",
    "test_returns = compute_log_returns(test_prices)\n",
    "test_P_returns = test_returns[tickers]  \n",
    "test_P_return = test_P_returns @ weights"
   ]
  },
  {
   "cell_type": "code",
   "execution_count": 33,
   "id": "d1f5ee28",
   "metadata": {},
   "outputs": [
    {
     "data": {
      "text/plain": [
       "Date\n",
       "2024-05-02    0.018841\n",
       "2024-05-03    0.033183\n",
       "2024-05-06    0.012984\n",
       "2024-05-07   -0.003001\n",
       "2024-05-08   -0.001136\n",
       "                ...   \n",
       "2025-04-24    0.029008\n",
       "2025-04-25    0.017130\n",
       "2025-04-28   -0.004945\n",
       "2025-04-29    0.003215\n",
       "2025-04-30    0.002663\n",
       "Length: 249, dtype: float64"
      ]
     },
     "execution_count": 33,
     "metadata": {},
     "output_type": "execute_result"
    }
   ],
   "source": [
    "test_P_return "
   ]
  },
  {
   "cell_type": "code",
   "execution_count": 34,
   "id": "c94646d1",
   "metadata": {},
   "outputs": [],
   "source": [
    "def backtest_VaR(real_returns, VaR):\n",
    "    violations = real_returns < VaR\n",
    "    num_violations = violations.sum()\n",
    "    total_days = len(real_returns)\n",
    "    violation_rate = num_violations / total_days\n",
    "\n",
    "    if num_violations <= 4:\n",
    "        zone = \"Green\"\n",
    "    elif num_violations <= 9:\n",
    "        zone = \"Yellow\"\n",
    "    else:\n",
    "        zone = \"Red\"\n",
    "\n",
    "    return {\n",
    "        \"violations\": int(num_violations),\n",
    "        \"total\": total_days,\n",
    "        \"rate\": f\"{round(violation_rate * 100, 2)}%\",\n",
    "        \"zone\": zone\n",
    "    }"
   ]
  },
  {
   "cell_type": "code",
   "execution_count": 35,
   "id": "ddd739bd",
   "metadata": {},
   "outputs": [
    {
     "data": {
      "text/plain": [
       "{'violations': 13, 'total': 249, 'rate': '5.22%', 'zone': 'Red'}"
      ]
     },
     "execution_count": 35,
     "metadata": {},
     "output_type": "execute_result"
    }
   ],
   "source": [
    "backtest_VaR(test_P_return , SimulatedPortfolioVaR)"
   ]
  },
  {
   "cell_type": "code",
   "execution_count": 36,
   "id": "35ac36f4",
   "metadata": {},
   "outputs": [
    {
     "data": {
      "image/png": "[encoded data removed]",
      "text/plain": [
       "<Figure size 1200x500 with 1 Axes>"
      ]
     },
     "metadata": {},
     "output_type": "display_data"
    }
   ],
   "source": [
    "x = test_P_return.index\n",
    "y = test_P_return.values.astype(\"float64\")\n",
    "VaR_line = SimulatedPortfolioVaR\n",
    "y2 = np.full_like(y, VaR_line)\n",
    "mask = y < VaR_line\n",
    "\n",
    "\n",
    "result = backtest_VaR(test_P_return, SimulatedPortfolioVaR)\n",
    "\n",
    "\n",
    "plt.figure(figsize=(12, 5))\n",
    "plt.plot(x, y, label=\"Actual Portfolio Return\", color=\"blue\", linewidth=1)\n",
    "plt.axhline(y=VaR_line, color=\"red\", linestyle=\"--\", linewidth=2,\n",
    "            label=f\"99% VaR = {VaR_line:.2%}\")\n",
    "plt.fill_between(x, y, y2, where=mask, color='red', alpha=0.3, label=\"Violations\")\n",
    "\n",
    "plt.title(f\"Backtesting: Actual Returns vs 99% VaR\\n\"\n",
    "          f\"Violations = {result['violations']} | \"\n",
    "          f\"Rate = {result['rate']}| Zone = {result['zone']}\")\n",
    "plt.xlabel(\"Date\")\n",
    "plt.ylabel(\"Daily Return\")\n",
    "plt.legend()\n",
    "plt.grid(True)\n",
    "plt.tight_layout()\n",
    "plt.show()"
   ]
  },
  {
   "cell_type": "code",
   "execution_count": 38,
   "id": "0294ed01",
   "metadata": {},
   "outputs": [
    {
     "data": {
      "text/markdown": [
       "\n",
       "### Output: Backtest Result Summary\n",
       "\n",
       "- Total backtesting days: **249**\n",
       "- VaR threshold (99%): **-3.16%**\n",
       "- Violations: **13**  \n",
       "- Violation rate: **5.22%**\n",
       "\n",
       "**Basel zone**: `Red`  \n",
       "→ Based on the number of violations, this model falls in the **Red zone** under the Basel backtesting framework.\n"
      ],
      "text/plain": [
       "<IPython.core.display.Markdown object>"
      ]
     },
     "execution_count": 38,
     "metadata": {},
     "output_type": "execute_result"
    }
   ],
   "source": [
    "Markdown(f\"\"\"\n",
    "### Output: Backtest Result Summary\n",
    "\n",
    "- Total backtesting days: **{result['total']}**\n",
    "- VaR threshold (99%): **{SimulatedPortfolioVaR:.2%}**\n",
    "- Violations: **{result['violations']}**  \n",
    "- Violation rate: **{result['rate']}**\n",
    "\n",
    "**Basel zone**: `{result['zone']}`  \n",
    "→ Based on the number of violations, this model falls in the **{result['zone']} zone** under the Basel backtesting framework.\n",
    "\"\"\")"
   ]
  },
  {
   "cell_type": "code",
   "execution_count": null,
   "id": "fcb787d1",
   "metadata": {},
   "outputs": [],
   "source": []
  }
 ],
 "metadata": {
  "kernelspec": {
   "display_name": "Python 3 (ipykernel)",
   "language": "python",
   "name": "python3"
  },
  "language_info": {
   "codemirror_mode": {
    "name": "ipython",
    "version": 3
   },
   "file_extension": ".py",
   "mimetype": "text/x-python",
   "name": "python",
   "nbconvert_exporter": "python",
   "pygments_lexer": "ipython3",
   "version": "3.11.3"
  }
 },
 "nbformat": 4,
 "nbformat_minor": 5
}
